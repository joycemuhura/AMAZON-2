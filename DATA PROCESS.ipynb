{
 "cells": [
  {
   "cell_type": "markdown",
   "metadata": {},
   "source": [
    "ECOMMERCE SALES DATA ANALYSIS\n",
    "\n",
    "PART 1. DATA REPROCESSING IN PYTHON"
   ]
  },
  {
   "cell_type": "markdown",
   "metadata": {},
   "source": [
    "1.LOAD THE DATASET\n",
    "\n",
    "a. Import the Amazon.csv dataset into a pandas dataframe "
   ]
  },
  {
   "cell_type": "code",
   "execution_count": null,
   "metadata": {},
   "outputs": [],
   "source": [
    "import numpy as np\n",
    "import pandas as pd\n",
    "import seaborn as sns\n",
    "import matplotlib.pyplot as plt"
   ]
  },
  {
   "cell_type": "code",
   "execution_count": 4,
   "metadata": {},
   "outputs": [
    {
     "name": "stdout",
     "output_type": "stream",
     "text": [
      "c:\\Users\\Administrator\\OneDrive\\Desktop\\New folder\\AMAZON 2\n"
     ]
    }
   ],
   "source": [
    "import os \n",
    "print (os.getcwd())"
   ]
  },
  {
   "cell_type": "code",
   "execution_count": 11,
   "metadata": {},
   "outputs": [
    {
     "name": "stdout",
     "output_type": "stream",
     "text": [
      "   product_id                                       product_name  \\\n",
      "0  B07JW9H4J1  Wayona Nylon Braided USB to Lightning Fast Cha...   \n",
      "1  B098NS6PVG  Ambrane Unbreakable 60W / 3A Fast Charging 1.5...   \n",
      "2  B096MSW6CT  Sounce Fast Phone Charging Cable & Data Sync U...   \n",
      "3  B08HDJ86NZ  boAt Deuce USB 300 2 in 1 Type-C & Micro USB S...   \n",
      "4  B08CF3B7N1  Portronics Konnect L 1.2M Fast Charging 3A 8 P...   \n",
      "\n",
      "                                            category discounted_price  \\\n",
      "0  Computers&Accessories|Accessories&Peripherals|...             ₹399   \n",
      "1  Computers&Accessories|Accessories&Peripherals|...             ₹199   \n",
      "2  Computers&Accessories|Accessories&Peripherals|...             ₹199   \n",
      "3  Computers&Accessories|Accessories&Peripherals|...             ₹329   \n",
      "4  Computers&Accessories|Accessories&Peripherals|...             ₹154   \n",
      "\n",
      "  actual_price discount_percentage rating rating_count  \\\n",
      "0       ₹1,099                 64%    4.2       24,269   \n",
      "1         ₹349                 43%      4       43,994   \n",
      "2       ₹1,899                 90%    3.9        7,928   \n",
      "3         ₹699                 53%    4.2       94,363   \n",
      "4         ₹399                 61%    4.2       16,905   \n",
      "\n",
      "                                       about_product  \\\n",
      "0  High Compatibility : Compatible With iPhone 12...   \n",
      "1  Compatible with all Type C enabled devices, be...   \n",
      "2  【 Fast Charger& Data Sync】-With built-in safet...   \n",
      "3  The boAt Deuce USB 300 2 in 1 cable is compati...   \n",
      "4  [CHARGE & SYNC FUNCTION]- This cable comes wit...   \n",
      "\n",
      "                                             user_id  \\\n",
      "0  AG3D6O4STAQKAY2UVGEUV46KN35Q,AHMY5CWJMMK5BJRBB...   \n",
      "1  AECPFYFQVRUWC3KGNLJIOREFP5LQ,AGYYVPDD7YG7FYNBX...   \n",
      "2  AGU3BBQ2V2DDAMOAKGFAWDDQ6QHA,AESFLDV2PT363T2AQ...   \n",
      "3  AEWAZDZZJLQUYVOVGBEUKSLXHQ5A,AG5HTSFRRE6NL3M5S...   \n",
      "4  AE3Q6KSUK5P75D5HFYHCRAOLODSA,AFUGIFH5ZAFXRDSZH...   \n",
      "\n",
      "                                           user_name  \\\n",
      "0  Manav,Adarsh gupta,Sundeep,S.Sayeed Ahmed,jasp...   \n",
      "1  ArdKn,Nirbhay kumar,Sagar Viswanathan,Asp,Plac...   \n",
      "2  Kunal,Himanshu,viswanath,sai niharka,saqib mal...   \n",
      "3  Omkar dhale,JD,HEMALATHA,Ajwadh a.,amar singh ...   \n",
      "4  rahuls6099,Swasat Borah,Ajay Wadke,Pranali,RVK...   \n",
      "\n",
      "                                           review_id  \\\n",
      "0  R3HXWT0LRP0NMF,R2AJM3LFTLZHFO,R6AQJGUP6P86,R1K...   \n",
      "1  RGIQEG07R9HS2,R1SMWZQ86XIN8U,R2J3Y1WL29GWDE,RY...   \n",
      "2  R3J3EQQ9TZI5ZJ,R3E7WBGK7ID0KV,RWU79XKQ6I1QF,R2...   \n",
      "3  R3EEUZKKK9J36I,R3HJVYCLYOY554,REDECAZ7AMPQC,R1...   \n",
      "4  R1BP4L2HH9TFUP,R16PVJEXKV6QZS,R2UPDB81N66T4P,R...   \n",
      "\n",
      "                                        review_title  \\\n",
      "0  Satisfied,Charging is really fast,Value for mo...   \n",
      "1  A Good Braided Cable for Your Type C Device,Go...   \n",
      "2  Good speed for earlier versions,Good Product,W...   \n",
      "3  Good product,Good one,Nice,Really nice product...   \n",
      "4  As good as original,Decent,Good one for second...   \n",
      "\n",
      "                                      review_content  \\\n",
      "0  Looks durable Charging is fine tooNo complains...   \n",
      "1  I ordered this cable to connect my phone to An...   \n",
      "2  Not quite durable and sturdy,https://m.media-a...   \n",
      "3  Good product,long wire,Charges good,Nice,I bou...   \n",
      "4  Bought this instead of original apple, does th...   \n",
      "\n",
      "                                            img_link  \\\n",
      "0  https://m.media-amazon.com/images/W/WEBP_40237...   \n",
      "1  https://m.media-amazon.com/images/W/WEBP_40237...   \n",
      "2  https://m.media-amazon.com/images/W/WEBP_40237...   \n",
      "3  https://m.media-amazon.com/images/I/41V5FtEWPk...   \n",
      "4  https://m.media-amazon.com/images/W/WEBP_40237...   \n",
      "\n",
      "                                        product_link  \n",
      "0  https://www.amazon.in/Wayona-Braided-WN3LG1-Sy...  \n",
      "1  https://www.amazon.in/Ambrane-Unbreakable-Char...  \n",
      "2  https://www.amazon.in/Sounce-iPhone-Charging-C...  \n",
      "3  https://www.amazon.in/Deuce-300-Resistant-Tang...  \n",
      "4  https://www.amazon.in/Portronics-Konnect-POR-1...  \n"
     ]
    }
   ],
   "source": [
    "df = pd.read_csv(r\"C:\\Users\\Administrator\\OneDrive\\Desktop\\New folder\\AMAZON 2\\amazon.csv\")\n",
    "print(df.head())"
   ]
  },
  {
   "cell_type": "code",
   "execution_count": 12,
   "metadata": {},
   "outputs": [
    {
     "data": {
      "text/plain": [
       "(1465, 16)"
      ]
     },
     "execution_count": 12,
     "metadata": {},
     "output_type": "execute_result"
    }
   ],
   "source": [
    "df.shape"
   ]
  },
  {
   "cell_type": "code",
   "execution_count": 13,
   "metadata": {},
   "outputs": [
    {
     "data": {
      "text/html": [
       "<div>\n",
       "<style scoped>\n",
       "    .dataframe tbody tr th:only-of-type {\n",
       "        vertical-align: middle;\n",
       "    }\n",
       "\n",
       "    .dataframe tbody tr th {\n",
       "        vertical-align: top;\n",
       "    }\n",
       "\n",
       "    .dataframe thead th {\n",
       "        text-align: right;\n",
       "    }\n",
       "</style>\n",
       "<table border=\"1\" class=\"dataframe\">\n",
       "  <thead>\n",
       "    <tr style=\"text-align: right;\">\n",
       "      <th></th>\n",
       "      <th>product_id</th>\n",
       "      <th>product_name</th>\n",
       "      <th>category</th>\n",
       "      <th>discounted_price</th>\n",
       "      <th>actual_price</th>\n",
       "      <th>discount_percentage</th>\n",
       "      <th>rating</th>\n",
       "      <th>rating_count</th>\n",
       "      <th>about_product</th>\n",
       "      <th>user_id</th>\n",
       "      <th>user_name</th>\n",
       "      <th>review_id</th>\n",
       "      <th>review_title</th>\n",
       "      <th>review_content</th>\n",
       "      <th>img_link</th>\n",
       "      <th>product_link</th>\n",
       "    </tr>\n",
       "  </thead>\n",
       "  <tbody>\n",
       "    <tr>\n",
       "      <th>count</th>\n",
       "      <td>1465</td>\n",
       "      <td>1465</td>\n",
       "      <td>1465</td>\n",
       "      <td>1465</td>\n",
       "      <td>1465</td>\n",
       "      <td>1465</td>\n",
       "      <td>1465</td>\n",
       "      <td>1463</td>\n",
       "      <td>1465</td>\n",
       "      <td>1465</td>\n",
       "      <td>1465</td>\n",
       "      <td>1465</td>\n",
       "      <td>1465</td>\n",
       "      <td>1465</td>\n",
       "      <td>1465</td>\n",
       "      <td>1465</td>\n",
       "    </tr>\n",
       "    <tr>\n",
       "      <th>unique</th>\n",
       "      <td>1351</td>\n",
       "      <td>1337</td>\n",
       "      <td>211</td>\n",
       "      <td>550</td>\n",
       "      <td>449</td>\n",
       "      <td>92</td>\n",
       "      <td>26</td>\n",
       "      <td>1143</td>\n",
       "      <td>1293</td>\n",
       "      <td>1194</td>\n",
       "      <td>1194</td>\n",
       "      <td>1194</td>\n",
       "      <td>1194</td>\n",
       "      <td>1212</td>\n",
       "      <td>1412</td>\n",
       "      <td>1465</td>\n",
       "    </tr>\n",
       "    <tr>\n",
       "      <th>top</th>\n",
       "      <td>B08WRWPM22</td>\n",
       "      <td>Fire-Boltt Ninja Call Pro Plus 1.83\" Smart Wat...</td>\n",
       "      <td>Computers&amp;Accessories|Accessories&amp;Peripherals|...</td>\n",
       "      <td>₹199</td>\n",
       "      <td>₹999</td>\n",
       "      <td>50%</td>\n",
       "      <td>4.1</td>\n",
       "      <td>9,378</td>\n",
       "      <td>[CHARGE &amp; SYNC FUNCTION]- This cable comes wit...</td>\n",
       "      <td>AHIKJUDTVJ4T6DV6IUGFYZ5LXMPA,AE55KTFVNXYFD5FPY...</td>\n",
       "      <td>$@|\\|TO$|-|,Sethu madhav,Akash Thakur,Burger P...</td>\n",
       "      <td>R3F4T5TRYPTMIG,R3DQIEC603E7AY,R1O4Z15FD40PV5,R...</td>\n",
       "      <td>Worked on iPhone 7 and didn’t work on XR,Good ...</td>\n",
       "      <td>I am not big on camera usage, personally. I wa...</td>\n",
       "      <td>https://m.media-amazon.com/images/I/413sCRKobN...</td>\n",
       "      <td>https://www.amazon.in/Borosil-Jumbo-1000-Watt-...</td>\n",
       "    </tr>\n",
       "    <tr>\n",
       "      <th>freq</th>\n",
       "      <td>3</td>\n",
       "      <td>5</td>\n",
       "      <td>233</td>\n",
       "      <td>53</td>\n",
       "      <td>120</td>\n",
       "      <td>56</td>\n",
       "      <td>244</td>\n",
       "      <td>9</td>\n",
       "      <td>6</td>\n",
       "      <td>10</td>\n",
       "      <td>10</td>\n",
       "      <td>10</td>\n",
       "      <td>10</td>\n",
       "      <td>8</td>\n",
       "      <td>3</td>\n",
       "      <td>1</td>\n",
       "    </tr>\n",
       "  </tbody>\n",
       "</table>\n",
       "</div>"
      ],
      "text/plain": [
       "        product_id                                       product_name  \\\n",
       "count         1465                                               1465   \n",
       "unique        1351                                               1337   \n",
       "top     B08WRWPM22  Fire-Boltt Ninja Call Pro Plus 1.83\" Smart Wat...   \n",
       "freq             3                                                  5   \n",
       "\n",
       "                                                 category discounted_price  \\\n",
       "count                                                1465             1465   \n",
       "unique                                                211              550   \n",
       "top     Computers&Accessories|Accessories&Peripherals|...             ₹199   \n",
       "freq                                                  233               53   \n",
       "\n",
       "       actual_price discount_percentage rating rating_count  \\\n",
       "count          1465                1465   1465         1463   \n",
       "unique          449                  92     26         1143   \n",
       "top            ₹999                 50%    4.1        9,378   \n",
       "freq            120                  56    244            9   \n",
       "\n",
       "                                            about_product  \\\n",
       "count                                                1465   \n",
       "unique                                               1293   \n",
       "top     [CHARGE & SYNC FUNCTION]- This cable comes wit...   \n",
       "freq                                                    6   \n",
       "\n",
       "                                                  user_id  \\\n",
       "count                                                1465   \n",
       "unique                                               1194   \n",
       "top     AHIKJUDTVJ4T6DV6IUGFYZ5LXMPA,AE55KTFVNXYFD5FPY...   \n",
       "freq                                                   10   \n",
       "\n",
       "                                                user_name  \\\n",
       "count                                                1465   \n",
       "unique                                               1194   \n",
       "top     $@|\\|TO$|-|,Sethu madhav,Akash Thakur,Burger P...   \n",
       "freq                                                   10   \n",
       "\n",
       "                                                review_id  \\\n",
       "count                                                1465   \n",
       "unique                                               1194   \n",
       "top     R3F4T5TRYPTMIG,R3DQIEC603E7AY,R1O4Z15FD40PV5,R...   \n",
       "freq                                                   10   \n",
       "\n",
       "                                             review_title  \\\n",
       "count                                                1465   \n",
       "unique                                               1194   \n",
       "top     Worked on iPhone 7 and didn’t work on XR,Good ...   \n",
       "freq                                                   10   \n",
       "\n",
       "                                           review_content  \\\n",
       "count                                                1465   \n",
       "unique                                               1212   \n",
       "top     I am not big on camera usage, personally. I wa...   \n",
       "freq                                                    8   \n",
       "\n",
       "                                                 img_link  \\\n",
       "count                                                1465   \n",
       "unique                                               1412   \n",
       "top     https://m.media-amazon.com/images/I/413sCRKobN...   \n",
       "freq                                                    3   \n",
       "\n",
       "                                             product_link  \n",
       "count                                                1465  \n",
       "unique                                               1465  \n",
       "top     https://www.amazon.in/Borosil-Jumbo-1000-Watt-...  \n",
       "freq                                                    1  "
      ]
     },
     "execution_count": 13,
     "metadata": {},
     "output_type": "execute_result"
    }
   ],
   "source": [
    "df.describe()"
   ]
  },
  {
   "cell_type": "code",
   "execution_count": 14,
   "metadata": {},
   "outputs": [
    {
     "data": {
      "text/plain": [
       "Index(['product_id', 'product_name', 'category', 'discounted_price',\n",
       "       'actual_price', 'discount_percentage', 'rating', 'rating_count',\n",
       "       'about_product', 'user_id', 'user_name', 'review_id', 'review_title',\n",
       "       'review_content', 'img_link', 'product_link'],\n",
       "      dtype='object')"
      ]
     },
     "execution_count": 14,
     "metadata": {},
     "output_type": "execute_result"
    }
   ],
   "source": [
    "df.columns"
   ]
  },
  {
   "cell_type": "code",
   "execution_count": 15,
   "metadata": {},
   "outputs": [
    {
     "name": "stdout",
     "output_type": "stream",
     "text": [
      "<class 'pandas.core.frame.DataFrame'>\n",
      "RangeIndex: 1465 entries, 0 to 1464\n",
      "Data columns (total 16 columns):\n",
      " #   Column               Non-Null Count  Dtype \n",
      "---  ------               --------------  ----- \n",
      " 0   product_id           1465 non-null   object\n",
      " 1   product_name         1465 non-null   object\n",
      " 2   category             1465 non-null   object\n",
      " 3   discounted_price     1465 non-null   object\n",
      " 4   actual_price         1465 non-null   object\n",
      " 5   discount_percentage  1465 non-null   object\n",
      " 6   rating               1465 non-null   object\n",
      " 7   rating_count         1463 non-null   object\n",
      " 8   about_product        1465 non-null   object\n",
      " 9   user_id              1465 non-null   object\n",
      " 10  user_name            1465 non-null   object\n",
      " 11  review_id            1465 non-null   object\n",
      " 12  review_title         1465 non-null   object\n",
      " 13  review_content       1465 non-null   object\n",
      " 14  img_link             1465 non-null   object\n",
      " 15  product_link         1465 non-null   object\n",
      "dtypes: object(16)\n",
      "memory usage: 183.3+ KB\n"
     ]
    }
   ],
   "source": [
    "df.info()"
   ]
  },
  {
   "cell_type": "markdown",
   "metadata": {},
   "source": [
    "C. Check for missing numbers and hanlde them appropriately"
   ]
  },
  {
   "cell_type": "code",
   "execution_count": 16,
   "metadata": {},
   "outputs": [
    {
     "data": {
      "text/plain": [
       "product_id             0\n",
       "product_name           0\n",
       "category               0\n",
       "discounted_price       0\n",
       "actual_price           0\n",
       "discount_percentage    0\n",
       "rating                 0\n",
       "rating_count           2\n",
       "about_product          0\n",
       "user_id                0\n",
       "user_name              0\n",
       "review_id              0\n",
       "review_title           0\n",
       "review_content         0\n",
       "img_link               0\n",
       "product_link           0\n",
       "dtype: int64"
      ]
     },
     "execution_count": 16,
     "metadata": {},
     "output_type": "execute_result"
    }
   ],
   "source": [
    "df.isnull().sum()"
   ]
  },
  {
   "cell_type": "code",
   "execution_count": null,
   "metadata": {},
   "outputs": [
    {
     "name": "stdout",
     "output_type": "stream",
     "text": [
      "   rating_count\n",
      "0          1234\n",
      "1          5678\n",
      "2          9012\n",
      "3             0\n",
      "4          3456\n",
      "rating_count    int64\n",
      "dtype: object\n"
     ]
    }
   ],
   "source": [
    "import pandas as pd\n",
    "\n",
    "# Sample DataFrame for demonstration\n",
    "data = {'rating_count': ['1,234', '5,678', '9,012', 'invalid', '3,456']}\n",
    "df = pd.DataFrame(data)\n",
    "\n",
    "df['rating_count'] = pd.to_numeric(df['rating_count'].str.replace(',', ''), errors='coerce').fillna(0).astype(int)\n",
    "\n",
    "print(df.head())\n",
    "print(df.dtypes)"
   ]
  },
  {
   "cell_type": "markdown",
   "metadata": {},
   "source": [
    "2. DATA CLEANING\n",
    "\n",
    "A. Convert price-related columns (discounted-price, actual-price)to numerical format"
   ]
  },
  {
   "cell_type": "code",
   "execution_count": 20,
   "metadata": {},
   "outputs": [
    {
     "name": "stdout",
     "output_type": "stream",
     "text": [
      "   product_id                                       product_name  \\\n",
      "0  B07JW9H4J1  Wayona Nylon Braided USB to Lightning Fast Cha...   \n",
      "1  B098NS6PVG  Ambrane Unbreakable 60W / 3A Fast Charging 1.5...   \n",
      "2  B096MSW6CT  Sounce Fast Phone Charging Cable & Data Sync U...   \n",
      "3  B08HDJ86NZ  boAt Deuce USB 300 2 in 1 Type-C & Micro USB S...   \n",
      "4  B08CF3B7N1  Portronics Konnect L 1.2M Fast Charging 3A 8 P...   \n",
      "\n",
      "                                            category  discounted_price  \\\n",
      "0  Computers&Accessories|Accessories&Peripherals|...             399.0   \n",
      "1  Computers&Accessories|Accessories&Peripherals|...             199.0   \n",
      "2  Computers&Accessories|Accessories&Peripherals|...             199.0   \n",
      "3  Computers&Accessories|Accessories&Peripherals|...             329.0   \n",
      "4  Computers&Accessories|Accessories&Peripherals|...             154.0   \n",
      "\n",
      "   actual_price discount_percentage rating  rating_count  \\\n",
      "0        1099.0                 64%    4.2         24269   \n",
      "1         349.0                 43%      4         43994   \n",
      "2        1899.0                 90%    3.9          7928   \n",
      "3         699.0                 53%    4.2         94363   \n",
      "4         399.0                 61%    4.2         16905   \n",
      "\n",
      "                                       about_product  \\\n",
      "0  High Compatibility : Compatible With iPhone 12...   \n",
      "1  Compatible with all Type C enabled devices, be...   \n",
      "2  【 Fast Charger& Data Sync】-With built-in safet...   \n",
      "3  The boAt Deuce USB 300 2 in 1 cable is compati...   \n",
      "4  [CHARGE & SYNC FUNCTION]- This cable comes wit...   \n",
      "\n",
      "                                             user_id  \\\n",
      "0  AG3D6O4STAQKAY2UVGEUV46KN35Q,AHMY5CWJMMK5BJRBB...   \n",
      "1  AECPFYFQVRUWC3KGNLJIOREFP5LQ,AGYYVPDD7YG7FYNBX...   \n",
      "2  AGU3BBQ2V2DDAMOAKGFAWDDQ6QHA,AESFLDV2PT363T2AQ...   \n",
      "3  AEWAZDZZJLQUYVOVGBEUKSLXHQ5A,AG5HTSFRRE6NL3M5S...   \n",
      "4  AE3Q6KSUK5P75D5HFYHCRAOLODSA,AFUGIFH5ZAFXRDSZH...   \n",
      "\n",
      "                                           user_name  \\\n",
      "0  Manav,Adarsh gupta,Sundeep,S.Sayeed Ahmed,jasp...   \n",
      "1  ArdKn,Nirbhay kumar,Sagar Viswanathan,Asp,Plac...   \n",
      "2  Kunal,Himanshu,viswanath,sai niharka,saqib mal...   \n",
      "3  Omkar dhale,JD,HEMALATHA,Ajwadh a.,amar singh ...   \n",
      "4  rahuls6099,Swasat Borah,Ajay Wadke,Pranali,RVK...   \n",
      "\n",
      "                                           review_id  \\\n",
      "0  R3HXWT0LRP0NMF,R2AJM3LFTLZHFO,R6AQJGUP6P86,R1K...   \n",
      "1  RGIQEG07R9HS2,R1SMWZQ86XIN8U,R2J3Y1WL29GWDE,RY...   \n",
      "2  R3J3EQQ9TZI5ZJ,R3E7WBGK7ID0KV,RWU79XKQ6I1QF,R2...   \n",
      "3  R3EEUZKKK9J36I,R3HJVYCLYOY554,REDECAZ7AMPQC,R1...   \n",
      "4  R1BP4L2HH9TFUP,R16PVJEXKV6QZS,R2UPDB81N66T4P,R...   \n",
      "\n",
      "                                        review_title  \\\n",
      "0  Satisfied,Charging is really fast,Value for mo...   \n",
      "1  A Good Braided Cable for Your Type C Device,Go...   \n",
      "2  Good speed for earlier versions,Good Product,W...   \n",
      "3  Good product,Good one,Nice,Really nice product...   \n",
      "4  As good as original,Decent,Good one for second...   \n",
      "\n",
      "                                      review_content  \\\n",
      "0  Looks durable Charging is fine tooNo complains...   \n",
      "1  I ordered this cable to connect my phone to An...   \n",
      "2  Not quite durable and sturdy,https://m.media-a...   \n",
      "3  Good product,long wire,Charges good,Nice,I bou...   \n",
      "4  Bought this instead of original apple, does th...   \n",
      "\n",
      "                                            img_link  \\\n",
      "0  https://m.media-amazon.com/images/W/WEBP_40237...   \n",
      "1  https://m.media-amazon.com/images/W/WEBP_40237...   \n",
      "2  https://m.media-amazon.com/images/W/WEBP_40237...   \n",
      "3  https://m.media-amazon.com/images/I/41V5FtEWPk...   \n",
      "4  https://m.media-amazon.com/images/W/WEBP_40237...   \n",
      "\n",
      "                                        product_link  \n",
      "0  https://www.amazon.in/Wayona-Braided-WN3LG1-Sy...  \n",
      "1  https://www.amazon.in/Ambrane-Unbreakable-Char...  \n",
      "2  https://www.amazon.in/Sounce-iPhone-Charging-C...  \n",
      "3  https://www.amazon.in/Deuce-300-Resistant-Tang...  \n",
      "4  https://www.amazon.in/Portronics-Konnect-POR-1...  \n",
      "product_id              object\n",
      "product_name            object\n",
      "category                object\n",
      "discounted_price       float64\n",
      "actual_price           float64\n",
      "discount_percentage     object\n",
      "rating                  object\n",
      "rating_count             int64\n",
      "about_product           object\n",
      "user_id                 object\n",
      "user_name               object\n",
      "review_id               object\n",
      "review_title            object\n",
      "review_content          object\n",
      "img_link                object\n",
      "product_link            object\n",
      "dtype: object\n"
     ]
    }
   ],
   "source": [
    "\n",
    " df['discounted_price'] = df['discounted_price'].astype(str).str.replace('₹', '')\n",
    "df['discounted_price'] = df['discounted_price'].str.replace(',', '').astype(float)\n",
    "df['actual_price'] = df['actual_price'].astype(str).str.replace('₹', '')\n",
    "df['actual_price'] = df['actual_price'].str.replace(',', '').astype(float)\n",
    "\n",
    "print(df.head()) #display the first few rows\n",
    "print(df.dtypes)\n"
   ]
  },
  {
   "cell_type": "markdown",
   "metadata": {},
   "source": [
    "3. DATA TRANSFORMATION\n",
    "\n",
    "A. Create a new column for discount_amount (actual_price-discounted_price)"
   ]
  },
  {
   "cell_type": "code",
   "execution_count": null,
   "metadata": {},
   "outputs": [
    {
     "name": "stdout",
     "output_type": "stream",
     "text": [
      "   actual_price  discounted_price  discount_amount\n",
      "0          1099               399              700\n",
      "1           349               199              150\n",
      "2          1899               199             1700\n",
      "3           699               329              370\n",
      "4           399               154              245\n"
     ]
    }
   ],
   "source": [
    "\n",
    "data = {'actual_price': [1099, 349, 1899, 699, 399],'discounted_price': [399, 199, 199, 329, 154]}\n",
    "df = pd.DataFrame(data)\n",
    "\n",
    "# Create a new column 'discount_amount'\n",
    "df['discount_amount'] = df['actual_price'] - df['discounted_price']\n",
    "\n",
    "print(df)"
   ]
  },
  {
   "cell_type": "markdown",
   "metadata": {},
   "source": [
    "B. Convert discount_percentage into a numeric value"
   ]
  },
  {
   "cell_type": "code",
   "execution_count": 50,
   "metadata": {},
   "outputs": [
    {
     "name": "stdout",
     "output_type": "stream",
     "text": [
      "   product_id                                       product_name  \\\n",
      "0  B07JW9H4J1  Wayona Nylon Braided USB to Lightning Fast Cha...   \n",
      "1  B098NS6PVG  Ambrane Unbreakable 60W / 3A Fast Charging 1.5...   \n",
      "2  B096MSW6CT  Sounce Fast Phone Charging Cable & Data Sync U...   \n",
      "3  B08HDJ86NZ  boAt Deuce USB 300 2 in 1 Type-C & Micro USB S...   \n",
      "4  B08CF3B7N1  Portronics Konnect L 1.2M Fast Charging 3A 8 P...   \n",
      "\n",
      "                                            category discounted_price  \\\n",
      "0  Computers&Accessories|Accessories&Peripherals|...             ₹399   \n",
      "1  Computers&Accessories|Accessories&Peripherals|...             ₹199   \n",
      "2  Computers&Accessories|Accessories&Peripherals|...             ₹199   \n",
      "3  Computers&Accessories|Accessories&Peripherals|...             ₹329   \n",
      "4  Computers&Accessories|Accessories&Peripherals|...             ₹154   \n",
      "\n",
      "  actual_price discount_percentage rating rating_count  \\\n",
      "0       ₹1,099                 64%    4.2       24,269   \n",
      "1         ₹349                 43%      4       43,994   \n",
      "2       ₹1,899                 90%    3.9        7,928   \n",
      "3         ₹699                 53%    4.2       94,363   \n",
      "4         ₹399                 61%    4.2       16,905   \n",
      "\n",
      "                                       about_product  \\\n",
      "0  High Compatibility : Compatible With iPhone 12...   \n",
      "1  Compatible with all Type C enabled devices, be...   \n",
      "2  【 Fast Charger& Data Sync】-With built-in safet...   \n",
      "3  The boAt Deuce USB 300 2 in 1 cable is compati...   \n",
      "4  [CHARGE & SYNC FUNCTION]- This cable comes wit...   \n",
      "\n",
      "                                             user_id  \\\n",
      "0  AG3D6O4STAQKAY2UVGEUV46KN35Q,AHMY5CWJMMK5BJRBB...   \n",
      "1  AECPFYFQVRUWC3KGNLJIOREFP5LQ,AGYYVPDD7YG7FYNBX...   \n",
      "2  AGU3BBQ2V2DDAMOAKGFAWDDQ6QHA,AESFLDV2PT363T2AQ...   \n",
      "3  AEWAZDZZJLQUYVOVGBEUKSLXHQ5A,AG5HTSFRRE6NL3M5S...   \n",
      "4  AE3Q6KSUK5P75D5HFYHCRAOLODSA,AFUGIFH5ZAFXRDSZH...   \n",
      "\n",
      "                                           user_name  \\\n",
      "0  Manav,Adarsh gupta,Sundeep,S.Sayeed Ahmed,jasp...   \n",
      "1  ArdKn,Nirbhay kumar,Sagar Viswanathan,Asp,Plac...   \n",
      "2  Kunal,Himanshu,viswanath,sai niharka,saqib mal...   \n",
      "3  Omkar dhale,JD,HEMALATHA,Ajwadh a.,amar singh ...   \n",
      "4  rahuls6099,Swasat Borah,Ajay Wadke,Pranali,RVK...   \n",
      "\n",
      "                                           review_id  \\\n",
      "0  R3HXWT0LRP0NMF,R2AJM3LFTLZHFO,R6AQJGUP6P86,R1K...   \n",
      "1  RGIQEG07R9HS2,R1SMWZQ86XIN8U,R2J3Y1WL29GWDE,RY...   \n",
      "2  R3J3EQQ9TZI5ZJ,R3E7WBGK7ID0KV,RWU79XKQ6I1QF,R2...   \n",
      "3  R3EEUZKKK9J36I,R3HJVYCLYOY554,REDECAZ7AMPQC,R1...   \n",
      "4  R1BP4L2HH9TFUP,R16PVJEXKV6QZS,R2UPDB81N66T4P,R...   \n",
      "\n",
      "                                        review_title  \\\n",
      "0  Satisfied,Charging is really fast,Value for mo...   \n",
      "1  A Good Braided Cable for Your Type C Device,Go...   \n",
      "2  Good speed for earlier versions,Good Product,W...   \n",
      "3  Good product,Good one,Nice,Really nice product...   \n",
      "4  As good as original,Decent,Good one for second...   \n",
      "\n",
      "                                      review_content  \\\n",
      "0  Looks durable Charging is fine tooNo complains...   \n",
      "1  I ordered this cable to connect my phone to An...   \n",
      "2  Not quite durable and sturdy,https://m.media-a...   \n",
      "3  Good product,long wire,Charges good,Nice,I bou...   \n",
      "4  Bought this instead of original apple, does th...   \n",
      "\n",
      "                                            img_link  \\\n",
      "0  https://m.media-amazon.com/images/W/WEBP_40237...   \n",
      "1  https://m.media-amazon.com/images/W/WEBP_40237...   \n",
      "2  https://m.media-amazon.com/images/W/WEBP_40237...   \n",
      "3  https://m.media-amazon.com/images/I/41V5FtEWPk...   \n",
      "4  https://m.media-amazon.com/images/W/WEBP_40237...   \n",
      "\n",
      "                                        product_link  \n",
      "0  https://www.amazon.in/Wayona-Braided-WN3LG1-Sy...  \n",
      "1  https://www.amazon.in/Ambrane-Unbreakable-Char...  \n",
      "2  https://www.amazon.in/Sounce-iPhone-Charging-C...  \n",
      "3  https://www.amazon.in/Deuce-300-Resistant-Tang...  \n",
      "4  https://www.amazon.in/Portronics-Konnect-POR-1...  \n"
     ]
    }
   ],
   "source": [
    "df = pd.read_csv(r\"C:\\Users\\Administrator\\OneDrive\\Desktop\\New folder\\AMAZON 2\\amazon.csv\")\n",
    "print(df.head())"
   ]
  },
  {
   "cell_type": "code",
   "execution_count": 51,
   "metadata": {},
   "outputs": [
    {
     "name": "stdout",
     "output_type": "stream",
     "text": [
      "   product_id                                       product_name  \\\n",
      "0  B07JW9H4J1  Wayona Nylon Braided USB to Lightning Fast Cha...   \n",
      "1  B098NS6PVG  Ambrane Unbreakable 60W / 3A Fast Charging 1.5...   \n",
      "2  B096MSW6CT  Sounce Fast Phone Charging Cable & Data Sync U...   \n",
      "3  B08HDJ86NZ  boAt Deuce USB 300 2 in 1 Type-C & Micro USB S...   \n",
      "4  B08CF3B7N1  Portronics Konnect L 1.2M Fast Charging 3A 8 P...   \n",
      "\n",
      "                                            category discounted_price  \\\n",
      "0  Computers&Accessories|Accessories&Peripherals|...             ₹399   \n",
      "1  Computers&Accessories|Accessories&Peripherals|...             ₹199   \n",
      "2  Computers&Accessories|Accessories&Peripherals|...             ₹199   \n",
      "3  Computers&Accessories|Accessories&Peripherals|...             ₹329   \n",
      "4  Computers&Accessories|Accessories&Peripherals|...             ₹154   \n",
      "\n",
      "  actual_price discount_percentage rating rating_count  \\\n",
      "0       ₹1,099                  64    4.2       24,269   \n",
      "1         ₹349                  43      4       43,994   \n",
      "2       ₹1,899                  90    3.9        7,928   \n",
      "3         ₹699                  53    4.2       94,363   \n",
      "4         ₹399                  61    4.2       16,905   \n",
      "\n",
      "                                       about_product  \\\n",
      "0  High Compatibility : Compatible With iPhone 12...   \n",
      "1  Compatible with all Type C enabled devices, be...   \n",
      "2  【 Fast Charger& Data Sync】-With built-in safet...   \n",
      "3  The boAt Deuce USB 300 2 in 1 cable is compati...   \n",
      "4  [CHARGE & SYNC FUNCTION]- This cable comes wit...   \n",
      "\n",
      "                                             user_id  \\\n",
      "0  AG3D6O4STAQKAY2UVGEUV46KN35Q,AHMY5CWJMMK5BJRBB...   \n",
      "1  AECPFYFQVRUWC3KGNLJIOREFP5LQ,AGYYVPDD7YG7FYNBX...   \n",
      "2  AGU3BBQ2V2DDAMOAKGFAWDDQ6QHA,AESFLDV2PT363T2AQ...   \n",
      "3  AEWAZDZZJLQUYVOVGBEUKSLXHQ5A,AG5HTSFRRE6NL3M5S...   \n",
      "4  AE3Q6KSUK5P75D5HFYHCRAOLODSA,AFUGIFH5ZAFXRDSZH...   \n",
      "\n",
      "                                           user_name  \\\n",
      "0  Manav,Adarsh gupta,Sundeep,S.Sayeed Ahmed,jasp...   \n",
      "1  ArdKn,Nirbhay kumar,Sagar Viswanathan,Asp,Plac...   \n",
      "2  Kunal,Himanshu,viswanath,sai niharka,saqib mal...   \n",
      "3  Omkar dhale,JD,HEMALATHA,Ajwadh a.,amar singh ...   \n",
      "4  rahuls6099,Swasat Borah,Ajay Wadke,Pranali,RVK...   \n",
      "\n",
      "                                           review_id  \\\n",
      "0  R3HXWT0LRP0NMF,R2AJM3LFTLZHFO,R6AQJGUP6P86,R1K...   \n",
      "1  RGIQEG07R9HS2,R1SMWZQ86XIN8U,R2J3Y1WL29GWDE,RY...   \n",
      "2  R3J3EQQ9TZI5ZJ,R3E7WBGK7ID0KV,RWU79XKQ6I1QF,R2...   \n",
      "3  R3EEUZKKK9J36I,R3HJVYCLYOY554,REDECAZ7AMPQC,R1...   \n",
      "4  R1BP4L2HH9TFUP,R16PVJEXKV6QZS,R2UPDB81N66T4P,R...   \n",
      "\n",
      "                                        review_title  \\\n",
      "0  Satisfied,Charging is really fast,Value for mo...   \n",
      "1  A Good Braided Cable for Your Type C Device,Go...   \n",
      "2  Good speed for earlier versions,Good Product,W...   \n",
      "3  Good product,Good one,Nice,Really nice product...   \n",
      "4  As good as original,Decent,Good one for second...   \n",
      "\n",
      "                                      review_content  \\\n",
      "0  Looks durable Charging is fine tooNo complains...   \n",
      "1  I ordered this cable to connect my phone to An...   \n",
      "2  Not quite durable and sturdy,https://m.media-a...   \n",
      "3  Good product,long wire,Charges good,Nice,I bou...   \n",
      "4  Bought this instead of original apple, does th...   \n",
      "\n",
      "                                            img_link  \\\n",
      "0  https://m.media-amazon.com/images/W/WEBP_40237...   \n",
      "1  https://m.media-amazon.com/images/W/WEBP_40237...   \n",
      "2  https://m.media-amazon.com/images/W/WEBP_40237...   \n",
      "3  https://m.media-amazon.com/images/I/41V5FtEWPk...   \n",
      "4  https://m.media-amazon.com/images/W/WEBP_40237...   \n",
      "\n",
      "                                        product_link  \n",
      "0  https://www.amazon.in/Wayona-Braided-WN3LG1-Sy...  \n",
      "1  https://www.amazon.in/Ambrane-Unbreakable-Char...  \n",
      "2  https://www.amazon.in/Sounce-iPhone-Charging-C...  \n",
      "3  https://www.amazon.in/Deuce-300-Resistant-Tang...  \n",
      "4  https://www.amazon.in/Portronics-Konnect-POR-1...  \n"
     ]
    }
   ],
   "source": [
    "import pandas as pd\n",
    "df['discount_percentage'] = df['discount_percentage'].str.replace('%', '')\n",
    "print(df.head())"
   ]
  },
  {
   "cell_type": "markdown",
   "metadata": {},
   "source": [
    "2.C. Extract relevant product categories from the category column"
   ]
  },
  {
   "cell_type": "code",
   "execution_count": 52,
   "metadata": {},
   "outputs": [
    {
     "name": "stdout",
     "output_type": "stream",
     "text": [
      "0       Computers&Accessories|Accessories&Peripherals|...\n",
      "1       Computers&Accessories|Accessories&Peripherals|...\n",
      "2       Computers&Accessories|Accessories&Peripherals|...\n",
      "3       Computers&Accessories|Accessories&Peripherals|...\n",
      "4       Computers&Accessories|Accessories&Peripherals|...\n",
      "                              ...                        \n",
      "1460    Home&Kitchen|Kitchen&HomeAppliances|WaterPurif...\n",
      "1461    Home&Kitchen|Kitchen&HomeAppliances|SmallKitch...\n",
      "1462    Home&Kitchen|Heating,Cooling&AirQuality|RoomHe...\n",
      "1463    Home&Kitchen|Heating,Cooling&AirQuality|Fans|E...\n",
      "1464    Home&Kitchen|Kitchen&HomeAppliances|SmallKitch...\n",
      "Name: category, Length: 1465, dtype: object\n"
     ]
    }
   ],
   "source": [
    "df['category']\n",
    "print(df['category'])"
   ]
  },
  {
   "cell_type": "markdown",
   "metadata": {},
   "source": [
    "2.B. Convert rating_count to integer values (remove commas if present)"
   ]
  },
  {
   "cell_type": "code",
   "execution_count": 53,
   "metadata": {},
   "outputs": [
    {
     "name": "stdout",
     "output_type": "stream",
     "text": [
      "   product_id                                       product_name  \\\n",
      "0  B07JW9H4J1  Wayona Nylon Braided USB to Lightning Fast Cha...   \n",
      "1  B098NS6PVG  Ambrane Unbreakable 60W / 3A Fast Charging 1.5...   \n",
      "2  B096MSW6CT  Sounce Fast Phone Charging Cable & Data Sync U...   \n",
      "3  B08HDJ86NZ  boAt Deuce USB 300 2 in 1 Type-C & Micro USB S...   \n",
      "4  B08CF3B7N1  Portronics Konnect L 1.2M Fast Charging 3A 8 P...   \n",
      "\n",
      "                                            category discounted_price  \\\n",
      "0  Computers&Accessories|Accessories&Peripherals|...             ₹399   \n",
      "1  Computers&Accessories|Accessories&Peripherals|...             ₹199   \n",
      "2  Computers&Accessories|Accessories&Peripherals|...             ₹199   \n",
      "3  Computers&Accessories|Accessories&Peripherals|...             ₹329   \n",
      "4  Computers&Accessories|Accessories&Peripherals|...             ₹154   \n",
      "\n",
      "  actual_price discount_percentage rating  rating_count  \\\n",
      "0       ₹1,099                  64    4.2         24269   \n",
      "1         ₹349                  43      4         43994   \n",
      "2       ₹1,899                  90    3.9          7928   \n",
      "3         ₹699                  53    4.2         94363   \n",
      "4         ₹399                  61    4.2         16905   \n",
      "\n",
      "                                       about_product  \\\n",
      "0  High Compatibility : Compatible With iPhone 12...   \n",
      "1  Compatible with all Type C enabled devices, be...   \n",
      "2  【 Fast Charger& Data Sync】-With built-in safet...   \n",
      "3  The boAt Deuce USB 300 2 in 1 cable is compati...   \n",
      "4  [CHARGE & SYNC FUNCTION]- This cable comes wit...   \n",
      "\n",
      "                                             user_id  \\\n",
      "0  AG3D6O4STAQKAY2UVGEUV46KN35Q,AHMY5CWJMMK5BJRBB...   \n",
      "1  AECPFYFQVRUWC3KGNLJIOREFP5LQ,AGYYVPDD7YG7FYNBX...   \n",
      "2  AGU3BBQ2V2DDAMOAKGFAWDDQ6QHA,AESFLDV2PT363T2AQ...   \n",
      "3  AEWAZDZZJLQUYVOVGBEUKSLXHQ5A,AG5HTSFRRE6NL3M5S...   \n",
      "4  AE3Q6KSUK5P75D5HFYHCRAOLODSA,AFUGIFH5ZAFXRDSZH...   \n",
      "\n",
      "                                           user_name  \\\n",
      "0  Manav,Adarsh gupta,Sundeep,S.Sayeed Ahmed,jasp...   \n",
      "1  ArdKn,Nirbhay kumar,Sagar Viswanathan,Asp,Plac...   \n",
      "2  Kunal,Himanshu,viswanath,sai niharka,saqib mal...   \n",
      "3  Omkar dhale,JD,HEMALATHA,Ajwadh a.,amar singh ...   \n",
      "4  rahuls6099,Swasat Borah,Ajay Wadke,Pranali,RVK...   \n",
      "\n",
      "                                           review_id  \\\n",
      "0  R3HXWT0LRP0NMF,R2AJM3LFTLZHFO,R6AQJGUP6P86,R1K...   \n",
      "1  RGIQEG07R9HS2,R1SMWZQ86XIN8U,R2J3Y1WL29GWDE,RY...   \n",
      "2  R3J3EQQ9TZI5ZJ,R3E7WBGK7ID0KV,RWU79XKQ6I1QF,R2...   \n",
      "3  R3EEUZKKK9J36I,R3HJVYCLYOY554,REDECAZ7AMPQC,R1...   \n",
      "4  R1BP4L2HH9TFUP,R16PVJEXKV6QZS,R2UPDB81N66T4P,R...   \n",
      "\n",
      "                                        review_title  \\\n",
      "0  Satisfied,Charging is really fast,Value for mo...   \n",
      "1  A Good Braided Cable for Your Type C Device,Go...   \n",
      "2  Good speed for earlier versions,Good Product,W...   \n",
      "3  Good product,Good one,Nice,Really nice product...   \n",
      "4  As good as original,Decent,Good one for second...   \n",
      "\n",
      "                                      review_content  \\\n",
      "0  Looks durable Charging is fine tooNo complains...   \n",
      "1  I ordered this cable to connect my phone to An...   \n",
      "2  Not quite durable and sturdy,https://m.media-a...   \n",
      "3  Good product,long wire,Charges good,Nice,I bou...   \n",
      "4  Bought this instead of original apple, does th...   \n",
      "\n",
      "                                            img_link  \\\n",
      "0  https://m.media-amazon.com/images/W/WEBP_40237...   \n",
      "1  https://m.media-amazon.com/images/W/WEBP_40237...   \n",
      "2  https://m.media-amazon.com/images/W/WEBP_40237...   \n",
      "3  https://m.media-amazon.com/images/I/41V5FtEWPk...   \n",
      "4  https://m.media-amazon.com/images/W/WEBP_40237...   \n",
      "\n",
      "                                        product_link  \n",
      "0  https://www.amazon.in/Wayona-Braided-WN3LG1-Sy...  \n",
      "1  https://www.amazon.in/Ambrane-Unbreakable-Char...  \n",
      "2  https://www.amazon.in/Sounce-iPhone-Charging-C...  \n",
      "3  https://www.amazon.in/Deuce-300-Resistant-Tang...  \n",
      "4  https://www.amazon.in/Portronics-Konnect-POR-1...  \n",
      "product_id             object\n",
      "product_name           object\n",
      "category               object\n",
      "discounted_price       object\n",
      "actual_price           object\n",
      "discount_percentage    object\n",
      "rating                 object\n",
      "rating_count            int64\n",
      "about_product          object\n",
      "user_id                object\n",
      "user_name              object\n",
      "review_id              object\n",
      "review_title           object\n",
      "review_content         object\n",
      "img_link               object\n",
      "product_link           object\n",
      "dtype: object\n"
     ]
    }
   ],
   "source": [
    "df['rating_count'] = pd.to_numeric(df['rating_count'].str.replace(',', ''), errors='coerce').fillna(0).astype(int)\n",
    "print(df.head())\n",
    "print(df.dtypes)"
   ]
  },
  {
   "cell_type": "markdown",
   "metadata": {},
   "source": [
    "3.D. Extract the year of reviews if a timestamp is present"
   ]
  },
  {
   "cell_type": "code",
   "execution_count": 57,
   "metadata": {},
   "outputs": [
    {
     "name": "stdout",
     "output_type": "stream",
     "text": [
      "0    https://m.media-amazon.com/images/W/WEBP_40237...\n",
      "1    https://m.media-amazon.com/images/W/WEBP_40237...\n",
      "2    https://m.media-amazon.com/images/W/WEBP_40237...\n",
      "3    https://m.media-amazon.com/images/I/41V5FtEWPk...\n",
      "4    https://m.media-amazon.com/images/W/WEBP_40237...\n",
      "Name: img_link, dtype: object\n"
     ]
    }
   ],
   "source": [
    "img_link = df['img_link']\n",
    "\n",
    "print(img_link.head())"
   ]
  },
  {
   "cell_type": "code",
   "execution_count": 62,
   "metadata": {},
   "outputs": [
    {
     "name": "stdout",
     "output_type": "stream",
     "text": [
      "                                            img_link img_year\n",
      "0  https://m.media-amazon.com/images/W/WEBP_40237...     None\n",
      "1  https://m.media-amazon.com/images/W/WEBP_40237...     None\n",
      "2  https://m.media-amazon.com/images/I/41V5FtEWPk...     None\n",
      "3  https://m.media-amazon.com/images/W/WEBP_40237...     None\n",
      "4  https://m.media-amazon.com/images/W/WEBP_40237...     None\n"
     ]
    }
   ],
   "source": [
    "import pandas as pd\n",
    "import re\n",
    "\n",
    "data = {'img_link': ['https://m.media-amazon.com/images/W/WEBP_40237...', 'https://m.media-amazon.com/images/W/WEBP_40237...', 'https://m.media-amazon.com/images/I/41V5FtEWPk...', 'https://m.media-amazon.com/images/W/WEBP_40237...','https://m.media-amazon.com/images/W/WEBP_40237...',]}\n",
    "\n",
    "df = pd.DataFrame(data)\n",
    "\n",
    "# Function to extract year from review link\n",
    "def extract_year(link):\n",
    "    match = re.search(r'/(\\d{4})/', link)\n",
    "    if match:\n",
    "        return int(match.group(1))\n",
    "    return None\n",
    "\n",
    "# Apply the function to the 'img_link' column and create a new column 'img_year'\n",
    "df['img_year'] = df['img_link'].apply(extract_year)\n",
    "\n",
    "# Print the DataFrame to verify\n",
    "print(df)"
   ]
  },
  {
   "cell_type": "markdown",
   "metadata": {},
   "source": [
    "PART 3. DATA ANALYSIS IN PYTHON \n",
    "\n",
    "6. EXPLORATORY DATA ANALYSIS (EDA)\n",
    "\n",
    "A. Show the distribution of ratings using a histogram"
   ]
  },
  {
   "cell_type": "code",
   "execution_count": 64,
   "metadata": {},
   "outputs": [
    {
     "name": "stdout",
     "output_type": "stream",
     "text": [
      "   product_id                                       product_name  \\\n",
      "0  B07JW9H4J1  Wayona Nylon Braided USB to Lightning Fast Cha...   \n",
      "1  B098NS6PVG  Ambrane Unbreakable 60W / 3A Fast Charging 1.5...   \n",
      "2  B096MSW6CT  Sounce Fast Phone Charging Cable & Data Sync U...   \n",
      "3  B08HDJ86NZ  boAt Deuce USB 300 2 in 1 Type-C & Micro USB S...   \n",
      "4  B08CF3B7N1  Portronics Konnect L 1.2M Fast Charging 3A 8 P...   \n",
      "\n",
      "                                            category discounted_price  \\\n",
      "0  Computers&Accessories|Accessories&Peripherals|...             ₹399   \n",
      "1  Computers&Accessories|Accessories&Peripherals|...             ₹199   \n",
      "2  Computers&Accessories|Accessories&Peripherals|...             ₹199   \n",
      "3  Computers&Accessories|Accessories&Peripherals|...             ₹329   \n",
      "4  Computers&Accessories|Accessories&Peripherals|...             ₹154   \n",
      "\n",
      "  actual_price discount_percentage rating rating_count  \\\n",
      "0       ₹1,099                 64%    4.2       24,269   \n",
      "1         ₹349                 43%      4       43,994   \n",
      "2       ₹1,899                 90%    3.9        7,928   \n",
      "3         ₹699                 53%    4.2       94,363   \n",
      "4         ₹399                 61%    4.2       16,905   \n",
      "\n",
      "                                       about_product  \\\n",
      "0  High Compatibility : Compatible With iPhone 12...   \n",
      "1  Compatible with all Type C enabled devices, be...   \n",
      "2  【 Fast Charger& Data Sync】-With built-in safet...   \n",
      "3  The boAt Deuce USB 300 2 in 1 cable is compati...   \n",
      "4  [CHARGE & SYNC FUNCTION]- This cable comes wit...   \n",
      "\n",
      "                                             user_id  \\\n",
      "0  AG3D6O4STAQKAY2UVGEUV46KN35Q,AHMY5CWJMMK5BJRBB...   \n",
      "1  AECPFYFQVRUWC3KGNLJIOREFP5LQ,AGYYVPDD7YG7FYNBX...   \n",
      "2  AGU3BBQ2V2DDAMOAKGFAWDDQ6QHA,AESFLDV2PT363T2AQ...   \n",
      "3  AEWAZDZZJLQUYVOVGBEUKSLXHQ5A,AG5HTSFRRE6NL3M5S...   \n",
      "4  AE3Q6KSUK5P75D5HFYHCRAOLODSA,AFUGIFH5ZAFXRDSZH...   \n",
      "\n",
      "                                           user_name  \\\n",
      "0  Manav,Adarsh gupta,Sundeep,S.Sayeed Ahmed,jasp...   \n",
      "1  ArdKn,Nirbhay kumar,Sagar Viswanathan,Asp,Plac...   \n",
      "2  Kunal,Himanshu,viswanath,sai niharka,saqib mal...   \n",
      "3  Omkar dhale,JD,HEMALATHA,Ajwadh a.,amar singh ...   \n",
      "4  rahuls6099,Swasat Borah,Ajay Wadke,Pranali,RVK...   \n",
      "\n",
      "                                           review_id  \\\n",
      "0  R3HXWT0LRP0NMF,R2AJM3LFTLZHFO,R6AQJGUP6P86,R1K...   \n",
      "1  RGIQEG07R9HS2,R1SMWZQ86XIN8U,R2J3Y1WL29GWDE,RY...   \n",
      "2  R3J3EQQ9TZI5ZJ,R3E7WBGK7ID0KV,RWU79XKQ6I1QF,R2...   \n",
      "3  R3EEUZKKK9J36I,R3HJVYCLYOY554,REDECAZ7AMPQC,R1...   \n",
      "4  R1BP4L2HH9TFUP,R16PVJEXKV6QZS,R2UPDB81N66T4P,R...   \n",
      "\n",
      "                                        review_title  \\\n",
      "0  Satisfied,Charging is really fast,Value for mo...   \n",
      "1  A Good Braided Cable for Your Type C Device,Go...   \n",
      "2  Good speed for earlier versions,Good Product,W...   \n",
      "3  Good product,Good one,Nice,Really nice product...   \n",
      "4  As good as original,Decent,Good one for second...   \n",
      "\n",
      "                                      review_content  \\\n",
      "0  Looks durable Charging is fine tooNo complains...   \n",
      "1  I ordered this cable to connect my phone to An...   \n",
      "2  Not quite durable and sturdy,https://m.media-a...   \n",
      "3  Good product,long wire,Charges good,Nice,I bou...   \n",
      "4  Bought this instead of original apple, does th...   \n",
      "\n",
      "                                            img_link  \\\n",
      "0  https://m.media-amazon.com/images/W/WEBP_40237...   \n",
      "1  https://m.media-amazon.com/images/W/WEBP_40237...   \n",
      "2  https://m.media-amazon.com/images/W/WEBP_40237...   \n",
      "3  https://m.media-amazon.com/images/I/41V5FtEWPk...   \n",
      "4  https://m.media-amazon.com/images/W/WEBP_40237...   \n",
      "\n",
      "                                        product_link  \n",
      "0  https://www.amazon.in/Wayona-Braided-WN3LG1-Sy...  \n",
      "1  https://www.amazon.in/Ambrane-Unbreakable-Char...  \n",
      "2  https://www.amazon.in/Sounce-iPhone-Charging-C...  \n",
      "3  https://www.amazon.in/Deuce-300-Resistant-Tang...  \n",
      "4  https://www.amazon.in/Portronics-Konnect-POR-1...  \n"
     ]
    }
   ],
   "source": [
    "df = pd.read_csv(r\"C:\\Users\\Administrator\\OneDrive\\Desktop\\New folder\\AMAZON 2\\amazon.csv\")\n",
    "print(df.head())"
   ]
  },
  {
   "cell_type": "code",
   "execution_count": 65,
   "metadata": {},
   "outputs": [
    {
     "data": {
      "image/png": "[encoded data removed]",
      "text/plain": [
       "<Figure size 640x480 with 1 Axes>"
      ]
     },
     "metadata": {},
     "output_type": "display_data"
    }
   ],
   "source": [
    "plt.hist(df['rating'])\n",
    "plt.xlabel('Rating')\n",
    "plt.ylabel('Frequency')\n",
    "plt.title('Distribution of Ratings')\n",
    "plt.show()"
   ]
  },
  {
   "cell_type": "markdown",
   "metadata": {},
   "source": [
    "B. Find the correlation between discount_percentage and rating"
   ]
  },
  {
   "cell_type": "code",
   "execution_count": 75,
   "metadata": {},
   "outputs": [
    {
     "name": "stdout",
     "output_type": "stream",
     "text": [
      "   discount_percentage  rating\n",
      "0                 64.0     4.2\n",
      "1                 43.0     4.0\n",
      "2                 90.0     3.9\n",
      "3                 53.0     4.2\n",
      "4                 61.0     4.2\n",
      "Correlation between discount_percentage and rating: -0.45349632967310133\n"
     ]
    }
   ],
   "source": [
    "import pandas as pd\n",
    "\n",
    "data = {'discount_percentage': ['64%', '43%', '90%', '53%', '61%'],'rating': [4.2, 4, 3.9, 4.2, 4.2]}\n",
    "df = pd.DataFrame(data)\n",
    "\n",
    "# Convert the 'discount_percentage' column to strings\n",
    "df['discount_percentage'] = df['discount_percentage'].astype(str)\n",
    "\n",
    "# Remove the '%' character and convert to numeric\n",
    "df['discount_percentage'] = df['discount_percentage'].str.replace('%', '').astype(float)\n",
    "\n",
    "# Print the DataFrame to verify\n",
    "print(df)\n",
    "\n",
    "# Calculate the correlation between 'discount_percentage' and 'rating'\n",
    "correlation = df['discount_percentage'].corr(df['rating'])\n",
    "print(f\"Correlation between discount_percentage and rating: {correlation}\")"
   ]
  },
  {
   "cell_type": "markdown",
   "metadata": {},
   "source": [
    "C. Identify the top selling product categories"
   ]
  },
  {
   "cell_type": "code",
   "execution_count": null,
   "metadata": {},
   "outputs": [
    {
     "name": "stdout",
     "output_type": "stream",
     "text": [
      "top-selling_categories:\n",
      " category\n",
      "Computers&Accessories|Accessories&Peripherals|Cables&Accessories|Cables|USBCables    233\n",
      "Electronics|WearableTechnology|SmartWatches                                           76\n",
      "Electronics|Mobiles&Accessories|Smartphones&BasicMobiles|Smartphones                  68\n",
      "Electronics|HomeTheater,TV&Video|Televisions|SmartTelevisions                         63\n",
      "Electronics|Headphones,Earbuds&Accessories|Headphones|In-Ear                          52\n",
      "Name: count, dtype: int64\n"
     ]
    }
   ],
   "source": [
    "top_categories = df['category'].value_counts().head(5)\n",
    "\n",
    "print(\"top-selling_categories:\\n\", top_categories)"
   ]
  },
  {
   "cell_type": "markdown",
   "metadata": {},
   "source": [
    "D. Analyze the relationship between discount and rating_count "
   ]
  },
  {
   "cell_type": "code",
   "execution_count": 86,
   "metadata": {},
   "outputs": [
    {
     "name": "stdout",
     "output_type": "stream",
     "text": [
      "   product_id                                       product_name  \\\n",
      "0  B07JW9H4J1  Wayona Nylon Braided USB to Lightning Fast Cha...   \n",
      "1  B098NS6PVG  Ambrane Unbreakable 60W / 3A Fast Charging 1.5...   \n",
      "2  B096MSW6CT  Sounce Fast Phone Charging Cable & Data Sync U...   \n",
      "3  B08HDJ86NZ  boAt Deuce USB 300 2 in 1 Type-C & Micro USB S...   \n",
      "4  B08CF3B7N1  Portronics Konnect L 1.2M Fast Charging 3A 8 P...   \n",
      "\n",
      "                                            category discounted_price  \\\n",
      "0  Computers&Accessories|Accessories&Peripherals|...             ₹399   \n",
      "1  Computers&Accessories|Accessories&Peripherals|...             ₹199   \n",
      "2  Computers&Accessories|Accessories&Peripherals|...             ₹199   \n",
      "3  Computers&Accessories|Accessories&Peripherals|...             ₹329   \n",
      "4  Computers&Accessories|Accessories&Peripherals|...             ₹154   \n",
      "\n",
      "  actual_price discount_percentage rating rating_count  \\\n",
      "0       ₹1,099                 64%    4.2       24,269   \n",
      "1         ₹349                 43%      4       43,994   \n",
      "2       ₹1,899                 90%    3.9        7,928   \n",
      "3         ₹699                 53%    4.2       94,363   \n",
      "4         ₹399                 61%    4.2       16,905   \n",
      "\n",
      "                                       about_product  \\\n",
      "0  High Compatibility : Compatible With iPhone 12...   \n",
      "1  Compatible with all Type C enabled devices, be...   \n",
      "2  【 Fast Charger& Data Sync】-With built-in safet...   \n",
      "3  The boAt Deuce USB 300 2 in 1 cable is compati...   \n",
      "4  [CHARGE & SYNC FUNCTION]- This cable comes wit...   \n",
      "\n",
      "                                             user_id  \\\n",
      "0  AG3D6O4STAQKAY2UVGEUV46KN35Q,AHMY5CWJMMK5BJRBB...   \n",
      "1  AECPFYFQVRUWC3KGNLJIOREFP5LQ,AGYYVPDD7YG7FYNBX...   \n",
      "2  AGU3BBQ2V2DDAMOAKGFAWDDQ6QHA,AESFLDV2PT363T2AQ...   \n",
      "3  AEWAZDZZJLQUYVOVGBEUKSLXHQ5A,AG5HTSFRRE6NL3M5S...   \n",
      "4  AE3Q6KSUK5P75D5HFYHCRAOLODSA,AFUGIFH5ZAFXRDSZH...   \n",
      "\n",
      "                                           user_name  \\\n",
      "0  Manav,Adarsh gupta,Sundeep,S.Sayeed Ahmed,jasp...   \n",
      "1  ArdKn,Nirbhay kumar,Sagar Viswanathan,Asp,Plac...   \n",
      "2  Kunal,Himanshu,viswanath,sai niharka,saqib mal...   \n",
      "3  Omkar dhale,JD,HEMALATHA,Ajwadh a.,amar singh ...   \n",
      "4  rahuls6099,Swasat Borah,Ajay Wadke,Pranali,RVK...   \n",
      "\n",
      "                                           review_id  \\\n",
      "0  R3HXWT0LRP0NMF,R2AJM3LFTLZHFO,R6AQJGUP6P86,R1K...   \n",
      "1  RGIQEG07R9HS2,R1SMWZQ86XIN8U,R2J3Y1WL29GWDE,RY...   \n",
      "2  R3J3EQQ9TZI5ZJ,R3E7WBGK7ID0KV,RWU79XKQ6I1QF,R2...   \n",
      "3  R3EEUZKKK9J36I,R3HJVYCLYOY554,REDECAZ7AMPQC,R1...   \n",
      "4  R1BP4L2HH9TFUP,R16PVJEXKV6QZS,R2UPDB81N66T4P,R...   \n",
      "\n",
      "                                        review_title  \\\n",
      "0  Satisfied,Charging is really fast,Value for mo...   \n",
      "1  A Good Braided Cable for Your Type C Device,Go...   \n",
      "2  Good speed for earlier versions,Good Product,W...   \n",
      "3  Good product,Good one,Nice,Really nice product...   \n",
      "4  As good as original,Decent,Good one for second...   \n",
      "\n",
      "                                      review_content  \\\n",
      "0  Looks durable Charging is fine tooNo complains...   \n",
      "1  I ordered this cable to connect my phone to An...   \n",
      "2  Not quite durable and sturdy,https://m.media-a...   \n",
      "3  Good product,long wire,Charges good,Nice,I bou...   \n",
      "4  Bought this instead of original apple, does th...   \n",
      "\n",
      "                                            img_link  \\\n",
      "0  https://m.media-amazon.com/images/W/WEBP_40237...   \n",
      "1  https://m.media-amazon.com/images/W/WEBP_40237...   \n",
      "2  https://m.media-amazon.com/images/W/WEBP_40237...   \n",
      "3  https://m.media-amazon.com/images/I/41V5FtEWPk...   \n",
      "4  https://m.media-amazon.com/images/W/WEBP_40237...   \n",
      "\n",
      "                                        product_link  \n",
      "0  https://www.amazon.in/Wayona-Braided-WN3LG1-Sy...  \n",
      "1  https://www.amazon.in/Ambrane-Unbreakable-Char...  \n",
      "2  https://www.amazon.in/Sounce-iPhone-Charging-C...  \n",
      "3  https://www.amazon.in/Deuce-300-Resistant-Tang...  \n",
      "4  https://www.amazon.in/Portronics-Konnect-POR-1...  \n"
     ]
    }
   ],
   "source": [
    "import pandas as pd\n",
    "df = pd.read_csv(r\"C:\\Users\\Administrator\\OneDrive\\Desktop\\New folder\\AMAZON 2\\amazon.csv\")\n",
    "print(df.head())"
   ]
  },
  {
   "cell_type": "code",
   "execution_count": null,
   "metadata": {},
   "outputs": [
    {
     "name": "stdout",
     "output_type": "stream",
     "text": [
      "Columns in the DataFrame: Index(['product_id', 'product_name', 'category', 'discounted_price',\n",
      "       'actual_price', 'discount_percentage', 'rating', 'rating_count',\n",
      "       'about_product', 'user_id', 'user_name', 'review_id', 'review_title',\n",
      "       'review_content', 'img_link', 'product_link'],\n",
      "      dtype='object')\n",
      "First few rows of the DataFrame after cleaning:\n",
      "    product_id                                       product_name  \\\n",
      "20  B09C6HXFC1  Duracell USB Lightning Apple Certified (Mfi) B...   \n",
      "28  B09W5XR9RT  Duracell USB C To Lightning Apple Certified (M...   \n",
      "32  B08QSC1XY8  Zoul USB C 60W Fast Charging 3A 6ft/2M Long Ty...   \n",
      "33  B008FWZGSG  Samsung Original Type C to C Cable - 3.28 Feet...   \n",
      "37  B09RZS1NQT  Sounce 65W OnePlus Dash Warp Charge Cable, 6.5...   \n",
      "\n",
      "                                             category discounted_price  \\\n",
      "20  Computers&Accessories|Accessories&Peripherals|...             ₹970   \n",
      "28  Computers&Accessories|Accessories&Peripherals|...             ₹970   \n",
      "32  Computers&Accessories|Accessories&Peripherals|...             ₹389   \n",
      "33  Computers&Accessories|Accessories&Peripherals|...             ₹599   \n",
      "37  Computers&Accessories|Accessories&Peripherals|...             ₹199   \n",
      "\n",
      "   actual_price  discount_percentage rating  rating_count  \\\n",
      "20       ₹1,799                   46    4.5         815.0   \n",
      "28       ₹1,999                   51    4.4         184.0   \n",
      "32       ₹1,099                   65    4.3         974.0   \n",
      "33         ₹599                    0    4.3         355.0   \n",
      "37         ₹999                   80      4         576.0   \n",
      "\n",
      "                                        about_product  \\\n",
      "20  Supports Ios Devices With Max Output Up To 2.4...   \n",
      "28  1.2M Tangle Free durable tough braiding sync &...   \n",
      "32  {3A/QC 3.0 FAST CHARGING and DATA SYNC} : This...   \n",
      "33  USB Type-C to Type-C cable with universal comp...   \n",
      "37  [USB C To USB C Cord 1M] With This 1 Meter USB...   \n",
      "\n",
      "                                              user_id  \\\n",
      "20  AFNYIBWKJLJQKY4BGK77ZOTVMORA,AFCTNNMP2LZLY5466...   \n",
      "28  AHZWJCVEIEI76H2VGMUSN5D735IQ,AH2DFUHFTG4CKQFVG...   \n",
      "32  AHMKXORT3VNMB75C3EUBYMFYELFQ,AEKJRELVNMICYPOYT...   \n",
      "33  AEQWVGESA7TDGK7KZ4DAJQGYH32A,AECGAMNNIMW5QOPOB...   \n",
      "37  AHUH7OYN3LAUATF5EGA575WCDI6A,AFQRX6TAM6CHKARXI...   \n",
      "\n",
      "                                            user_name  \\\n",
      "20  Prasannavijayaraghavan G.,Preet Sikka,Theeban ...   \n",
      "28  Amazon Customer,Govind Gujarathi,Vihari,shalem...   \n",
      "32  Pratyush Pahuja,Thiyagarajan,yeses,Amazon Cust...   \n",
      "33  Verified Buyer,Avishek Majumdar,Drowna roy,mah...   \n",
      "37  Anmol,Vani,Tejas Jha,Rishabh Gupta,Nik,Harsha,...   \n",
      "\n",
      "                                            review_id  \\\n",
      "20  R12D1BZF9MU8TN,R32MNCWO5LGFCG,RZU3UK8OZKD6X,R3...   \n",
      "28  R1Y30KU04V3QF4,RK3DSUGKIZT8Z,R3BIG7J6V2JZTU,R1...   \n",
      "32  R2S0AYWUV349HP,R35OW9CYQNAYHY,R3B3DDF1D5NULK,R...   \n",
      "33  R2Z9ENI1BK4EAB,R2JTBG4GO7WPMG,R3GKCN4UH999M8,R...   \n",
      "37  RW294SCHB5QTK,R24AGC1O5RVWYI,R3NT7AA2V3I2FB,R2...   \n",
      "\n",
      "                                         review_title  \\\n",
      "20  Good cable for car,Good substitute for orginal...   \n",
      "28  Very good product.,Using as a spare cable in c...   \n",
      "32  Great Cable, Charging Speeds Could Be Better,G...   \n",
      "33  Good,Genuine product,Not first charge this cab...   \n",
      "37  Worth it!,Good one,Robust and effective.,Good,...   \n",
      "\n",
      "                                       review_content  \\\n",
      "20  I trust this product! Works well with car play...   \n",
      "28  Fast charging.,Cable seems to be of good quali...   \n",
      "32  Not charging as fast as I'd have expected. May...   \n",
      "33  Buy it,Received in good condition and is worki...   \n",
      "37  It does the job really well. No complaints reg...   \n",
      "\n",
      "                                             img_link  \\\n",
      "20  https://m.media-amazon.com/images/W/WEBP_40237...   \n",
      "28  https://m.media-amazon.com/images/W/WEBP_40237...   \n",
      "32  https://m.media-amazon.com/images/I/419QKVTxaS...   \n",
      "33  https://m.media-amazon.com/images/W/WEBP_40237...   \n",
      "37  https://m.media-amazon.com/images/W/WEBP_40237...   \n",
      "\n",
      "                                         product_link  \n",
      "20  https://www.amazon.in/DURACELL-Lightning-Certi...  \n",
      "28  https://www.amazon.in/Duracell-Lightning-Certi...  \n",
      "32  https://www.amazon.in/Charging-Braided-Charger...  \n",
      "33  https://www.amazon.in/Samsung-Original-Type-Ca...  \n",
      "37  https://www.amazon.in/Sounce-Type-C-Compatible...  \n",
      "Correlation between discount_percentage and rating_count: -0.01989331172881762\n"
     ]
    },
    {
     "data": {
      "image/png": "[encoded data removed]",
      "text/plain": [
       "<Figure size 640x480 with 1 Axes>"
      ]
     },
     "metadata": {},
     "output_type": "display_data"
    }
   ],
   "source": [
    "import pandas as pd\n",
    "import matplotlib.pyplot as plt\n",
    "\n",
    "# Load the dataset from a CSV file'\n",
    "df = pd.read_csv(r\"C:\\Users\\Administrator\\OneDrive\\Desktop\\New folder\\AMAZON 2\\amazon.csv\")\n",
    "\n",
    "# Print the column names to verify the columns exist\n",
    "print(\"Columns in the DataFrame:\", df.columns)\n",
    "\n",
    "#reconfirm the existence of the columns\n",
    "if 'discount_percentage' in df.columns and 'rating_count' in df.columns:\n",
    "\n",
    "#Convert the 'discount_percentage' column to string\n",
    "df['discount_percentage'] = df['discount_percentage'].astype(str)\n",
    "\n",
    "#convert to numeric\n",
    "df['discount_percentage'] = pd.to_numeric(df['discount_percentage'].str.replace('%', ''), errors='coerce')\n",
    "    \n",
    "\n",
    "#Convert 'rating_count' to numeric\n",
    "df['rating_count'] = pd.to_numeric(df['rating_count'], errors='coerce')\n",
    "    \n",
    "#Drop rows with NaN values in 'discount_percentage' or 'rating_count'\n",
    "df = df.dropna(subset=['discount_percentage', 'rating_count'])\n",
    "    \n",
    "#Print the first few rows to verify the data\n",
    " print(\"First few rows of the DataFrame after cleaning:\")\n",
    " print(df.head())\n",
    "    \n",
    "#Calculate the correlation between 'discount_percentage' and 'rating_count'\n",
    "correlation = df['discount_percentage'].corr(df['rating_count'])\n",
    "print(f\"Correlation between discount_percentage and rating_count: {correlation}\")\n",
    "    \n",
    "#Visualize the relationship with a scatter plot\n",
    "plt.scatter(df['discount_percentage'], df['rating_count'])\n",
    "plt.xlabel('Discount Percentage')\n",
    "plt.ylabel('Rating Count')\n",
    "plt.title('Relationship between Discount Percentage and Rating Count')\n",
    "plt.show()"
   ]
  },
  {
   "cell_type": "markdown",
   "metadata": {},
   "source": [
    "7. DATA VISUALIZATION\n",
    "\n",
    "A. Create a bar chart showing the top 10 highest-rated products."
   ]
  },
  {
   "cell_type": "code",
   "execution_count": 101,
   "metadata": {},
   "outputs": [
    {
     "name": "stdout",
     "output_type": "stream",
     "text": [
      "      product_id                                       product_name  \\\n",
      "1279  B08L12N5H1  Eureka Forbes car Vac 100 Watts Powerful Sucti...   \n",
      "775   B09ZHCJDP1  Amazon Basics Wireless Mouse | 2.4 GHz Connect...   \n",
      "174   B0BP7XLX48  Syncwire LTG to USB Cable for Fast Charging Co...   \n",
      "1201  B0BQ3K23Y1  Oratech Coffee Frother electric, milk frother ...   \n",
      "1226  B0BLC2BYPX  Zuvexa USB Rechargeable Electric Foam Maker - ...   \n",
      "1119  B09JN37WBX  Lint Remover Woolen Clothes Lint Extractor Bat...   \n",
      "1216  B0BN6M3TCM  VRPRIME Lint Roller Lint Remover for Clothes, ...   \n",
      "1293  B09P1MFKG1  Melbon VM-905 2000-Watt Room Heater (ISI Certi...   \n",
      "1007  B0B9BXKBC7  WeCool S5 Long Selfie Stick, with Large Reinfo...   \n",
      "1289  B0BJ966M5K  Aquadpure Copper + Mineral RO+UV+UF 10 to 12 L...   \n",
      "\n",
      "                                               category discounted_price  \\\n",
      "1279  Home&Kitchen|Kitchen&HomeAppliances|Vacuum,Cle...           ₹2,099   \n",
      "775   Computers&Accessories|Accessories&Peripherals|...             ₹499   \n",
      "174   Computers&Accessories|Accessories&Peripherals|...             ₹399   \n",
      "1201  Home&Kitchen|Kitchen&HomeAppliances|SmallKitch...             ₹279   \n",
      "1226  Home&Kitchen|Kitchen&HomeAppliances|SmallKitch...             ₹499   \n",
      "1119  Home&Kitchen|Kitchen&HomeAppliances|Vacuum,Cle...             ₹319   \n",
      "1216  Home&Kitchen|Kitchen&HomeAppliances|Vacuum,Cle...             ₹499   \n",
      "1293  Home&Kitchen|Heating,Cooling&AirQuality|RoomHe...             ₹998   \n",
      "1007  Electronics|Mobiles&Accessories|MobileAccessor...           ₹1,799   \n",
      "1289  Home&Kitchen|Kitchen&HomeAppliances|WaterPurif...           ₹4,999   \n",
      "\n",
      "     actual_price  discount_percentage rating  rating_count  \\\n",
      "1279       ₹2,499                   16      |         992.0   \n",
      "775        ₹1,000                   50      5          23.0   \n",
      "174        ₹1,999                   80      5           5.0   \n",
      "1201         ₹499                   44    4.8          28.0   \n",
      "1226       ₹1,299                   62    4.7          54.0   \n",
      "1119         ₹749                   57    4.6         124.0   \n",
      "1216         ₹999                   50    4.6          79.0   \n",
      "1293       ₹2,999                   67    4.6           9.0   \n",
      "1007       ₹3,999                   55    4.6         245.0   \n",
      "1289      ₹24,999                   80    4.6         124.0   \n",
      "\n",
      "                                          about_product  \\\n",
      "1279  No Installation is provided for this product|1...   \n",
      "775   Reliable wireless connection up to 10m|Advance...   \n",
      "174   This sturdy and durable cable made of tpe and ...   \n",
      "1201  -Make delicious milk foam creamer for your dri...   \n",
      "1226  The food taste stainless steel whisking head i...   \n",
      "1119  Smoothly takes off the lint from fabric suitab...   \n",
      "1216  【CLEAN CLOTHES EVERY TIME】 : Our lint roller h...   \n",
      "1293  Lightweight (1.2 kg) for easy portability betw...   \n",
      "1007  64\" Tall Cell Phone Tripods with 7 section adj...   \n",
      "1289  RO technology reduces TDS, hardness, and remov...   \n",
      "\n",
      "                                                user_id  \\\n",
      "1279  AGTDSNT2FKVYEPDPXAA673AIS44A,AER2XFSWNN4LAUCJ5...   \n",
      "775   AFLLEPVLIAH2DFSHAZ77KWFM72ZA,AHY2YZWK63CNZ626M...   \n",
      "174   AF7EOXYL5K36BDP6PXF6K2TL5TPA,AEN7NV2P5WNHM7EXC...   \n",
      "1201  AGRJZJKWKIE573KM5FWPOH4F7YCA,AEHV4VOLDQX5XYA42...   \n",
      "1226  AG6AS2KLLZMPPPEKF5RIJXTMA4FA,AEW6BC4YLRYKI5OZG...   \n",
      "1119  AF4OLYBDMHJV5DUGONVIH7GU2V7Q,AEZNF3N52DQTHYBJ6...   \n",
      "1216  AG56BWR4QA24HMU37HCG7LXA5BIQ,AHPMTDLBF66SKRERY...   \n",
      "1293  AENGRDSABHKCYNYJPZ2SML6FWVHA,AFNGD6S7UIHBQ2FNX...   \n",
      "1007  AFPYH3UF3GB4RNX3MX46AXFM2FTQ,AGWEQHJSUA4YCG44R...   \n",
      "1289  AHZJHJWFZLYD64GVP4PXVI2F4LXA,AEUCRZPOISXKHXMCZ...   \n",
      "\n",
      "                                              user_name  \\\n",
      "1279  Divya,Dr Nefario,Deekshith,Preeti,Prasanth R,P...   \n",
      "775   Rambeer kumar,Ramesh,Digambar Shelke,awadhesh ...   \n",
      "174   Amazon Customer,kamal sahota,Pankaj,luvsmplcty...   \n",
      "1201  Amazon Customer,Neha Mehta,Nischal Agarwal,tha...   \n",
      "1226  shammi,Rippy Mittal,Kabeer,Kush,Vani Prabha,ne...   \n",
      "1119  Kewal k.,SANCHIT BHATIA,Akshit kumar,Hugu gupt...   \n",
      "1216  Kindle Customer,Naval Kishor Rustagi,Sudha,saj...   \n",
      "1293  Chanchal Gurjar,Shyam,Lalit Garg,Anil Kumar,PR...   \n",
      "1007  Sujili v,Paras Jain,Shailendra,supreeth achar,...   \n",
      "1289  Manish Mehekare,Rajesh,Nitesh singh,Lalit,Prat...   \n",
      "\n",
      "                                              review_id  \\\n",
      "1279  R2KKTKM4M9RDVJ,R1O692MZOBTE79,R2WRSEWL56SOS4,R...   \n",
      "775   R76XPXMKXLWKH,R23S77AWPH5FP5,RK7Q6W5FOPESC,R2X...   \n",
      "174   R1L2JNO4Y3BHYF,R2346F22YLZ9IG,R3A4GAQTCPE5U7,R...   \n",
      "1201  R3907SDNN9VR5Y,R1NNMXA39722T8,RXQNT49DKJ26S,R2...   \n",
      "1226  R1M11VMLH6I3TN,R2OLOOGNHQ37ZA,R3PIVKT8BNMA4G,R...   \n",
      "1119  R1XULCDQK9G8I7,RHPQ553ZWQIME,RNQB4SFH4DX7B,RMG...   \n",
      "1216  R2QT3QBL25HBTG,R3E449S1ZWR7F9,RLHERK8U1LREO,R1...   \n",
      "1293  R2REMFEEN6UKBC,R29TQDV31QHMAP,RSC1YPIBXFW9B,R3...   \n",
      "1007  R2MI4KSWYUEMDR,R2MNYKDL2UII1M,R2C6TUBM6IVLB0,R...   \n",
      "1289  R410I44U1ORFS,R2EL6RDO42L8HA,R2LMSC4S998NYI,R2...   \n",
      "\n",
      "                                           review_title  \\\n",
      "1279  Decent product,doesn't pick up sand,Ok ok,Must...   \n",
      "775   Very responsive and stylish mouse,Simply Aweso...   \n",
      "174   Good,Superb quality,Good products  nice one,Wo...   \n",
      "1201  Oratech Best Coffee Frother,Great,My review ab...   \n",
      "1226  Little kitchen helper,An amazing product,Very ...   \n",
      "1119  good,Overall good product but got stop inbetwe...   \n",
      "1216  Superb,Very helpful and great quality,Exactly ...   \n",
      "1293  It's good,Happy to purchase,Product is really ...   \n",
      "1007  Good,Good Product but Little expensive.,Happy ...   \n",
      "1289  service is excellent,  installation guy is ver...   \n",
      "\n",
      "                                         review_content  \\\n",
      "1279  Does the job well,doesn't work on sand. though...   \n",
      "775   I really like this wireless mouse it has becam...   \n",
      "174   Product is good in quality. Working good with ...   \n",
      "1201  Overall, I love this Oratech Coffee frother an...   \n",
      "1226  The first time I tried it send the eggs and th...   \n",
      "1119  https://m.media-amazon.com/images/W/WEBP_40237...   \n",
      "1216  Value for money,The quality of the tapes are a...   \n",
      "1293  It's good  nd amazing product,Very nice produc...   \n",
      "1007  Good,Thoda sa kam stable hai, phone lagane ke ...   \n",
      "1289  I like the service most and the product,Note: ...   \n",
      "\n",
      "                                               img_link  \\\n",
      "1279  https://m.media-amazon.com/images/W/WEBP_40237...   \n",
      "775   https://m.media-amazon.com/images/I/31+Rg6Z46d...   \n",
      "174   https://m.media-amazon.com/images/I/317OoQfs1g...   \n",
      "1201  https://m.media-amazon.com/images/W/WEBP_40237...   \n",
      "1226  https://m.media-amazon.com/images/I/41714O1hnm...   \n",
      "1119  https://m.media-amazon.com/images/W/WEBP_40237...   \n",
      "1216  https://m.media-amazon.com/images/W/WEBP_40237...   \n",
      "1293  https://m.media-amazon.com/images/I/41xLjSyJtY...   \n",
      "1007  https://m.media-amazon.com/images/I/41fDM4QUfv...   \n",
      "1289  https://m.media-amazon.com/images/W/WEBP_40237...   \n",
      "\n",
      "                                           product_link  \n",
      "1279  https://www.amazon.in/Eureka-Forbes-Vacuum-Cle...  \n",
      "775   https://www.amazon.in/Wireless-Connection-Batt...  \n",
      "174   https://www.amazon.in/Syncwire-Cable-Charging-...  \n",
      "1201  https://www.amazon.in/Oratech-electric-cappucc...  \n",
      "1226  https://www.amazon.in/Zuvexa-Rechargeable-Elec...  \n",
      "1119  https://www.amazon.in/Remover-Clothes-Extracto...  \n",
      "1216  https://www.amazon.in/VRPRIME-Remover-Reusable...  \n",
      "1293  https://www.amazon.in/Melbon-Blower-Heater-200...  \n",
      "1007  https://www.amazon.in/WeCool-Reinforced-Functi...  \n",
      "1289  https://www.amazon.in/Aquadpure-Copper-ADJUSTE...  \n"
     ]
    }
   ],
   "source": [
    "top_rated_products = df.sort_values(by='rating', ascending=False).head(10)\n",
    "print(top_rated_products)"
   ]
  },
  {
   "cell_type": "code",
   "execution_count": 102,
   "metadata": {},
   "outputs": [
    {
     "data": {
      "text/plain": [
       "Text(0.5, 1.0, 'Top 10 Highest Rated Products')"
      ]
     },
     "execution_count": 102,
     "metadata": {},
     "output_type": "execute_result"
    },
    {
     "data": {
      "image/png": "[encoded data removed]",
      "text/plain": [
       "<Figure size 640x480 with 1 Axes>"
      ]
     },
     "metadata": {},
     "output_type": "display_data"
    }
   ],
   "source": [
    "top_rated_products = df.sort_values(by='rating', ascending=False).head(10)\n",
    "plt.bar(top_rated_products['product_name'], top_rated_products['rating'])\n",
    "plt.xlabel('Product Name')\n",
    "plt.ylabel('Rating')\n",
    "plt.title('Top 10 Highest Rated Products')"
   ]
  },
  {
   "cell_type": "markdown",
   "metadata": {},
   "source": [
    "B. Plot a scatter plot of discount_percentage vs rating"
   ]
  },
  {
   "cell_type": "code",
   "execution_count": null,
   "metadata": {},
   "outputs": [
    {
     "name": "stdout",
     "output_type": "stream",
     "text": [
      "Columns in the DataFrame: Index(['product_id', 'product_name', 'category', 'discounted_price',\n",
      "       'actual_price', 'discount_percentage', 'rating', 'rating_count',\n",
      "       'about_product', 'user_id', 'user_name', 'review_id', 'review_title',\n",
      "       'review_content', 'img_link', 'product_link'],\n",
      "      dtype='object')\n",
      "First few rows of the DataFrame after cleaning:\n",
      "    product_id                                       product_name  \\\n",
      "20  B09C6HXFC1  Duracell USB Lightning Apple Certified (Mfi) B...   \n",
      "28  B09W5XR9RT  Duracell USB C To Lightning Apple Certified (M...   \n",
      "32  B08QSC1XY8  Zoul USB C 60W Fast Charging 3A 6ft/2M Long Ty...   \n",
      "33  B008FWZGSG  Samsung Original Type C to C Cable - 3.28 Feet...   \n",
      "37  B09RZS1NQT  Sounce 65W OnePlus Dash Warp Charge Cable, 6.5...   \n",
      "\n",
      "                                             category discounted_price  \\\n",
      "20  Computers&Accessories|Accessories&Peripherals|...             ₹970   \n",
      "28  Computers&Accessories|Accessories&Peripherals|...             ₹970   \n",
      "32  Computers&Accessories|Accessories&Peripherals|...             ₹389   \n",
      "33  Computers&Accessories|Accessories&Peripherals|...             ₹599   \n",
      "37  Computers&Accessories|Accessories&Peripherals|...             ₹199   \n",
      "\n",
      "   actual_price  discount_percentage rating  rating_count  \\\n",
      "20       ₹1,799                   46    4.5         815.0   \n",
      "28       ₹1,999                   51    4.4         184.0   \n",
      "32       ₹1,099                   65    4.3         974.0   \n",
      "33         ₹599                    0    4.3         355.0   \n",
      "37         ₹999                   80      4         576.0   \n",
      "\n",
      "                                        about_product  \\\n",
      "20  Supports Ios Devices With Max Output Up To 2.4...   \n",
      "28  1.2M Tangle Free durable tough braiding sync &...   \n",
      "32  {3A/QC 3.0 FAST CHARGING and DATA SYNC} : This...   \n",
      "33  USB Type-C to Type-C cable with universal comp...   \n",
      "37  [USB C To USB C Cord 1M] With This 1 Meter USB...   \n",
      "\n",
      "                                              user_id  \\\n",
      "20  AFNYIBWKJLJQKY4BGK77ZOTVMORA,AFCTNNMP2LZLY5466...   \n",
      "28  AHZWJCVEIEI76H2VGMUSN5D735IQ,AH2DFUHFTG4CKQFVG...   \n",
      "32  AHMKXORT3VNMB75C3EUBYMFYELFQ,AEKJRELVNMICYPOYT...   \n",
      "33  AEQWVGESA7TDGK7KZ4DAJQGYH32A,AECGAMNNIMW5QOPOB...   \n",
      "37  AHUH7OYN3LAUATF5EGA575WCDI6A,AFQRX6TAM6CHKARXI...   \n",
      "\n",
      "                                            user_name  \\\n",
      "20  Prasannavijayaraghavan G.,Preet Sikka,Theeban ...   \n",
      "28  Amazon Customer,Govind Gujarathi,Vihari,shalem...   \n",
      "32  Pratyush Pahuja,Thiyagarajan,yeses,Amazon Cust...   \n",
      "33  Verified Buyer,Avishek Majumdar,Drowna roy,mah...   \n",
      "37  Anmol,Vani,Tejas Jha,Rishabh Gupta,Nik,Harsha,...   \n",
      "\n",
      "                                            review_id  \\\n",
      "20  R12D1BZF9MU8TN,R32MNCWO5LGFCG,RZU3UK8OZKD6X,R3...   \n",
      "28  R1Y30KU04V3QF4,RK3DSUGKIZT8Z,R3BIG7J6V2JZTU,R1...   \n",
      "32  R2S0AYWUV349HP,R35OW9CYQNAYHY,R3B3DDF1D5NULK,R...   \n",
      "33  R2Z9ENI1BK4EAB,R2JTBG4GO7WPMG,R3GKCN4UH999M8,R...   \n",
      "37  RW294SCHB5QTK,R24AGC1O5RVWYI,R3NT7AA2V3I2FB,R2...   \n",
      "\n",
      "                                         review_title  \\\n",
      "20  Good cable for car,Good substitute for orginal...   \n",
      "28  Very good product.,Using as a spare cable in c...   \n",
      "32  Great Cable, Charging Speeds Could Be Better,G...   \n",
      "33  Good,Genuine product,Not first charge this cab...   \n",
      "37  Worth it!,Good one,Robust and effective.,Good,...   \n",
      "\n",
      "                                       review_content  \\\n",
      "20  I trust this product! Works well with car play...   \n",
      "28  Fast charging.,Cable seems to be of good quali...   \n",
      "32  Not charging as fast as I'd have expected. May...   \n",
      "33  Buy it,Received in good condition and is worki...   \n",
      "37  It does the job really well. No complaints reg...   \n",
      "\n",
      "                                             img_link  \\\n",
      "20  https://m.media-amazon.com/images/W/WEBP_40237...   \n",
      "28  https://m.media-amazon.com/images/W/WEBP_40237...   \n",
      "32  https://m.media-amazon.com/images/I/419QKVTxaS...   \n",
      "33  https://m.media-amazon.com/images/W/WEBP_40237...   \n",
      "37  https://m.media-amazon.com/images/W/WEBP_40237...   \n",
      "\n",
      "                                         product_link  \n",
      "20  https://www.amazon.in/DURACELL-Lightning-Certi...  \n",
      "28  https://www.amazon.in/Duracell-Lightning-Certi...  \n",
      "32  https://www.amazon.in/Charging-Braided-Charger...  \n",
      "33  https://www.amazon.in/Samsung-Original-Type-Ca...  \n",
      "37  https://www.amazon.in/Sounce-Type-C-Compatible...  \n",
      "Correlation between discount_percentage and rating_count: -0.01989331172881762\n"
     ]
    },
    {
     "data": {
      "image/png": "[encoded data removed]",
      "text/plain": [
       "<Figure size 640x480 with 1 Axes>"
      ]
     },
     "metadata": {},
     "output_type": "display_data"
    }
   ],
   "source": [
    "import pandas as pd\n",
    "import matplotlib.pyplot as plt\n",
    "\n",
    "#Load the dataset from a CSV file\n",
    "df = pd.read_csv(r\"C:\\Users\\Administrator\\OneDrive\\Desktop\\New folder\\AMAZON 2\\amazon.csv\")\n",
    "\n",
    "#Print the column names to verify the columns exist\n",
    "print(\"Columns in the DataFrame:\", df.columns)\n",
    "\n",
    "#Check for the existence of the columns\n",
    "if 'discount_percentage' in df.columns and 'rating_count' in df.columns:\n",
    "\n",
    "#Convert the 'discount_percentage' column to strings\n",
    "df['discount_percentage'] = df['discount_percentage'].astype(str)\n",
    "\n",
    "#Convert to numeric\n",
    "df['discount_percentage'] = pd.to_numeric(df['discount_percentage'].str.replace('%', ''), errors='coerce')\n",
    "\n",
    "#Convert 'rating_count' to numeric\n",
    "df['rating_count'] = pd.to_numeric(df['rating_count'], errors='coerce')\n",
    "\n",
    "#Drop rows with NaN values in 'discount_percentage' or 'rating_count'\n",
    "df = df.dropna(subset=['discount_percentage', 'rating_count'])\n",
    "\n",
    "#Print the first few rows to verify the data\n",
    "print(\"First few rows of the DataFrame after cleaning:\")\n",
    "print(df.head())\n",
    "\n",
    "#Calculate the correlation between 'discount_percentage' and 'rating_count'\n",
    "correlation = df['discount_percentage'].corr(df['rating_count'])\n",
    "print(f\"Correlation between discount_percentage and rating_count: {correlation}\")\n",
    "\n",
    " #Visualize the relationship with a scatter plot\n",
    "plt.scatter(df['discount_percentage'], df['rating_count'])\n",
    "plt.xlabel('Discount Percentage')\n",
    "plt.ylabel('Rating Count')\n",
    "plt.title('Discount Percentage vs Rating Count')\n"
   ]
  },
  {
   "cell_type": "markdown",
   "metadata": {},
   "source": [
    "C. Show the top-selling categories using a pie chart"
   ]
  },
  {
   "cell_type": "code",
   "execution_count": 109,
   "metadata": {},
   "outputs": [
    {
     "data": {
      "image/png": "[encoded data removed]",
      "text/plain": [
       "<Figure size 640x480 with 1 Axes>"
      ]
     },
     "metadata": {},
     "output_type": "display_data"
    }
   ],
   "source": [
    "plt.pie(top_categories, labels=top_categories.index, autopct='%1.1f%%')\n",
    "plt.title('Top Selling Categories')\n",
    "plt.show()"
   ]
  },
  {
   "cell_type": "markdown",
   "metadata": {},
   "source": [
    "D. Use a heatmap to show correlations between numerical columns"
   ]
  },
  {
   "cell_type": "code",
   "execution_count": 110,
   "metadata": {},
   "outputs": [
    {
     "data": {
      "image/png": "[encoded data removed]",
      "text/plain": [
       "<Figure size 640x480 with 2 Axes>"
      ]
     },
     "metadata": {},
     "output_type": "display_data"
    }
   ],
   "source": [
    "correlation_matrix = df.select_dtypes(include=['number']).corr()\n",
    "sns.heatmap(correlation_matrix, annot=True, cmap='coolwarm')\n",
    "plt.title('Correlation Heatmap')\n",
    "\n",
    "plt.show()"
   ]
  },
  {
   "cell_type": "markdown",
   "metadata": {},
   "source": [
    "### PART 2 : MYSQL DATABASE INTERGRATION "
   ]
  },
  {
   "cell_type": "markdown",
   "metadata": {},
   "source": [
    "### Create a MYSQL database"
   ]
  },
  {
   "cell_type": "markdown",
   "metadata": {},
   "source": [
    "### set up a mysql databasa (ecommerce_db)"
   ]
  },
  {
   "cell_type": "code",
   "execution_count": 6,
   "metadata": {},
   "outputs": [
    {
     "ename": "ProgrammingError",
     "evalue": "1049 (42000): Unknown database 'products'",
     "output_type": "error",
     "traceback": [
      "\u001b[31m---------------------------------------------------------------------------\u001b[39m",
      "\u001b[31mMySQLInterfaceError\u001b[39m                       Traceback (most recent call last)",
      "\u001b[36mFile \u001b[39m\u001b[32mc:\\Users\\Administrator\\AppData\\Local\\Programs\\Python\\Python313\\Lib\\site-packages\\mysql\\connector\\connection_cext.py:365\u001b[39m, in \u001b[36mCMySQLConnection._open_connection\u001b[39m\u001b[34m(self)\u001b[39m\n\u001b[32m    364\u001b[39m \u001b[38;5;28;01mtry\u001b[39;00m:\n\u001b[32m--> \u001b[39m\u001b[32m365\u001b[39m     \u001b[38;5;28;43mself\u001b[39;49m\u001b[43m.\u001b[49m\u001b[43m_cmysql\u001b[49m\u001b[43m.\u001b[49m\u001b[43mconnect\u001b[49m\u001b[43m(\u001b[49m\u001b[43m*\u001b[49m\u001b[43m*\u001b[49m\u001b[43mcnx_kwargs\u001b[49m\u001b[43m)\u001b[49m\n\u001b[32m    366\u001b[39m     \u001b[38;5;28mself\u001b[39m._cmysql.converter_str_fallback = \u001b[38;5;28mself\u001b[39m._converter_str_fallback\n",
      "\u001b[31mMySQLInterfaceError\u001b[39m: Unknown database 'products'",
      "\nThe above exception was the direct cause of the following exception:\n",
      "\u001b[31mProgrammingError\u001b[39m                          Traceback (most recent call last)",
      "\u001b[36mCell\u001b[39m\u001b[36m \u001b[39m\u001b[32mIn[6]\u001b[39m\u001b[32m, line 12\u001b[39m\n\u001b[32m      7\u001b[39m df[\u001b[33m\"\u001b[39m\u001b[33mactual_price\u001b[39m\u001b[33m\"\u001b[39m] = df[\u001b[33m\"\u001b[39m\u001b[33mactual_price\u001b[39m\u001b[33m\"\u001b[39m].str.replace(\u001b[33m\"\u001b[39m\u001b[33m₹\u001b[39m\u001b[33m\"\u001b[39m, \u001b[33m\"\u001b[39m\u001b[33m\"\u001b[39m).str.replace(\u001b[33m\"\u001b[39m\u001b[33m,\u001b[39m\u001b[33m\"\u001b[39m, \u001b[33m\"\u001b[39m\u001b[33m\"\u001b[39m).astype(\u001b[38;5;28mfloat\u001b[39m)\n\u001b[32m      8\u001b[39m df[\u001b[33m\"\u001b[39m\u001b[33mrating_count\u001b[39m\u001b[33m\"\u001b[39m] = df[\u001b[33m\"\u001b[39m\u001b[33mrating_count\u001b[39m\u001b[33m\"\u001b[39m].astype(\u001b[38;5;28mstr\u001b[39m).str.replace(\u001b[33m\"\u001b[39m\u001b[33m,\u001b[39m\u001b[33m\"\u001b[39m, \u001b[33m\"\u001b[39m\u001b[33m\"\u001b[39m).replace(\u001b[33m\"\u001b[39m\u001b[33mnan\u001b[39m\u001b[33m\"\u001b[39m,\u001b[33m\"\u001b[39m\u001b[33m0\u001b[39m\u001b[33m\"\u001b[39m).fillna(\u001b[33m\"\u001b[39m\u001b[33m0\u001b[39m\u001b[33m\"\u001b[39m).astype(\u001b[38;5;28mint\u001b[39m)\n\u001b[32m---> \u001b[39m\u001b[32m12\u001b[39m conn = \u001b[43mmysql\u001b[49m\u001b[43m.\u001b[49m\u001b[43mconnector\u001b[49m\u001b[43m.\u001b[49m\u001b[43mconnect\u001b[49m\u001b[43m(\u001b[49m\u001b[43mhost\u001b[49m\u001b[43m=\u001b[49m\u001b[33;43m\"\u001b[39;49m\u001b[33;43mlocalhost\u001b[39;49m\u001b[33;43m\"\u001b[39;49m\u001b[43m,\u001b[49m\u001b[43m \u001b[49m\u001b[43muser\u001b[49m\u001b[43m=\u001b[49m\u001b[33;43m\"\u001b[39;49m\u001b[33;43mroot\u001b[39;49m\u001b[33;43m\"\u001b[39;49m\u001b[43m,\u001b[49m\u001b[43m \u001b[49m\u001b[43mpassword\u001b[49m\u001b[43m=\u001b[49m\u001b[33;43m\"\u001b[39;49m\u001b[33;43mJoy@12345\u001b[39;49m\u001b[33;43m\"\u001b[39;49m\u001b[43m,\u001b[49m\u001b[43m \u001b[49m\u001b[43mdatabase\u001b[49m\u001b[43m=\u001b[49m\u001b[33;43m\"\u001b[39;49m\u001b[33;43mproducts\u001b[39;49m\u001b[33;43m\"\u001b[39;49m\u001b[43m)\u001b[49m\n\u001b[32m     14\u001b[39m cursor = conn.cursor()\n\u001b[32m     16\u001b[39m \u001b[38;5;28;01mfor\u001b[39;00m _, row \u001b[38;5;129;01min\u001b[39;00m df.iterrows():\n",
      "\u001b[36mFile \u001b[39m\u001b[32mc:\\Users\\Administrator\\AppData\\Local\\Programs\\Python\\Python313\\Lib\\site-packages\\mysql\\connector\\pooling.py:322\u001b[39m, in \u001b[36mconnect\u001b[39m\u001b[34m(*args, **kwargs)\u001b[39m\n\u001b[32m    319\u001b[39m         \u001b[38;5;28;01mraise\u001b[39;00m \u001b[38;5;167;01mImportError\u001b[39;00m(ERROR_NO_CEXT)\n\u001b[32m    321\u001b[39m \u001b[38;5;28;01mif\u001b[39;00m CMySQLConnection \u001b[38;5;129;01mand\u001b[39;00m \u001b[38;5;129;01mnot\u001b[39;00m use_pure:\n\u001b[32m--> \u001b[39m\u001b[32m322\u001b[39m     \u001b[38;5;28;01mreturn\u001b[39;00m \u001b[43mCMySQLConnection\u001b[49m\u001b[43m(\u001b[49m\u001b[43m*\u001b[49m\u001b[43margs\u001b[49m\u001b[43m,\u001b[49m\u001b[43m \u001b[49m\u001b[43m*\u001b[49m\u001b[43m*\u001b[49m\u001b[43mkwargs\u001b[49m\u001b[43m)\u001b[49m\n\u001b[32m    323\u001b[39m \u001b[38;5;28;01mreturn\u001b[39;00m MySQLConnection(*args, **kwargs)\n",
      "\u001b[36mFile \u001b[39m\u001b[32mc:\\Users\\Administrator\\AppData\\Local\\Programs\\Python\\Python313\\Lib\\site-packages\\mysql\\connector\\connection_cext.py:153\u001b[39m, in \u001b[36mCMySQLConnection.__init__\u001b[39m\u001b[34m(self, **kwargs)\u001b[39m\n\u001b[32m    151\u001b[39m \u001b[38;5;28;01mif\u001b[39;00m kwargs:\n\u001b[32m    152\u001b[39m     \u001b[38;5;28;01mtry\u001b[39;00m:\n\u001b[32m--> \u001b[39m\u001b[32m153\u001b[39m         \u001b[38;5;28;43mself\u001b[39;49m\u001b[43m.\u001b[49m\u001b[43mconnect\u001b[49m\u001b[43m(\u001b[49m\u001b[43m*\u001b[49m\u001b[43m*\u001b[49m\u001b[43mkwargs\u001b[49m\u001b[43m)\u001b[49m\n\u001b[32m    154\u001b[39m     \u001b[38;5;28;01mexcept\u001b[39;00m \u001b[38;5;167;01mException\u001b[39;00m:\n\u001b[32m    155\u001b[39m         \u001b[38;5;28mself\u001b[39m.close()\n",
      "\u001b[36mFile \u001b[39m\u001b[32mc:\\Users\\Administrator\\AppData\\Local\\Programs\\Python\\Python313\\Lib\\site-packages\\mysql\\connector\\abstracts.py:1529\u001b[39m, in \u001b[36mMySQLConnectionAbstract.connect\u001b[39m\u001b[34m(self, **kwargs)\u001b[39m\n\u001b[32m   1526\u001b[39m     \u001b[38;5;28mself\u001b[39m.config(**kwargs)\n\u001b[32m   1528\u001b[39m \u001b[38;5;28mself\u001b[39m.disconnect()\n\u001b[32m-> \u001b[39m\u001b[32m1529\u001b[39m \u001b[38;5;28;43mself\u001b[39;49m\u001b[43m.\u001b[49m\u001b[43m_open_connection\u001b[49m\u001b[43m(\u001b[49m\u001b[43m)\u001b[49m\n\u001b[32m   1531\u001b[39m charset, collation = (\n\u001b[32m   1532\u001b[39m     kwargs.pop(\u001b[33m\"\u001b[39m\u001b[33mcharset\u001b[39m\u001b[33m\"\u001b[39m, \u001b[38;5;28;01mNone\u001b[39;00m),\n\u001b[32m   1533\u001b[39m     kwargs.pop(\u001b[33m\"\u001b[39m\u001b[33mcollation\u001b[39m\u001b[33m\"\u001b[39m, \u001b[38;5;28;01mNone\u001b[39;00m),\n\u001b[32m   1534\u001b[39m )\n\u001b[32m   1535\u001b[39m \u001b[38;5;28;01mif\u001b[39;00m charset \u001b[38;5;129;01mor\u001b[39;00m collation:\n",
      "\u001b[36mFile \u001b[39m\u001b[32mc:\\Users\\Administrator\\AppData\\Local\\Programs\\Python\\Python313\\Lib\\site-packages\\mysql\\connector\\connection_cext.py:370\u001b[39m, in \u001b[36mCMySQLConnection._open_connection\u001b[39m\u001b[34m(self)\u001b[39m\n\u001b[32m    368\u001b[39m         \u001b[38;5;28mself\u001b[39m.converter.str_fallback = \u001b[38;5;28mself\u001b[39m._converter_str_fallback\n\u001b[32m    369\u001b[39m \u001b[38;5;28;01mexcept\u001b[39;00m MySQLInterfaceError \u001b[38;5;28;01mas\u001b[39;00m err:\n\u001b[32m--> \u001b[39m\u001b[32m370\u001b[39m     \u001b[38;5;28;01mraise\u001b[39;00m get_mysql_exception(\n\u001b[32m    371\u001b[39m         msg=err.msg, errno=err.errno, sqlstate=err.sqlstate\n\u001b[32m    372\u001b[39m     ) \u001b[38;5;28;01mfrom\u001b[39;00m\u001b[38;5;250m \u001b[39m\u001b[34;01merr\u001b[39;00m\n\u001b[32m    374\u001b[39m \u001b[38;5;28mself\u001b[39m._do_handshake()\n\u001b[32m    376\u001b[39m \u001b[38;5;28;01mif\u001b[39;00m (\n\u001b[32m    377\u001b[39m     \u001b[38;5;129;01mnot\u001b[39;00m \u001b[38;5;28mself\u001b[39m._ssl_disabled\n\u001b[32m    378\u001b[39m     \u001b[38;5;129;01mand\u001b[39;00m \u001b[38;5;28mhasattr\u001b[39m(\u001b[38;5;28mself\u001b[39m._cmysql, \u001b[33m\"\u001b[39m\u001b[33mget_ssl_cipher\u001b[39m\u001b[33m\"\u001b[39m)\n\u001b[32m   (...)\u001b[39m\u001b[32m    383\u001b[39m \n\u001b[32m    384\u001b[39m     \u001b[38;5;66;03m# `get_ssl_cipher()` returns the name of the cipher being used.\u001b[39;00m\n",
      "\u001b[31mProgrammingError\u001b[39m: 1049 (42000): Unknown database 'products'"
     ]
    }
   ],
   "source": [
    "import pandas as pd\n",
    "import mysql.connector\n",
    "\n",
    "df = pd.read_csv(r\"C:\\Users\\Administrator\\OneDrive\\Desktop\\TITANIC\\AMAZON 2\\amazon.csv\")\n",
    "\n",
    "df[\"discounted_price\"] = df[\"discounted_price\"].str.replace(\"₹\", \"\").str.replace(\",\", \"\").astype(float)\n",
    "df[\"actual_price\"] = df[\"actual_price\"].str.replace(\"₹\", \"\").str.replace(\",\", \"\").astype(float)\n",
    "df[\"rating_count\"] = df[\"rating_count\"].astype(str).str.replace(\",\", \"\").replace(\"nan\",\"0\").fillna(\"0\").astype(int)\n",
    "\n",
    "\n",
    "\n",
    "conn = mysql.connector.connect(host=\"localhost\", user=\"root\", password=\"Joy@12345\", database=\"products\")\n",
    "\n",
    "cursor = conn.cursor()\n",
    "\n",
    "for _, row in df.iterrows():\n",
    "    sql = \"\"\"\n",
    "INSERT IGNORE INTO products(\n",
    "    product_id, product_name, category, discounted_price, actual_price, rating, rating_count, about_product, img_link)\n",
    " VALUES (%s, %s, %s, %s, %s, %s, %s, %s, %s);\"\"\"\n",
    "    \n",
    "    data = (row['product_id'], row['product_name'], row['category'], row['discounted_price'], row['actual_price'], row['rating'], row['rating_count'], row['about_product'], row['img_link'])\n",
    "\n",
    "    cursor.execute(sql, data)\n",
    "\n",
    "    conn.commit()\n",
    "    cursor.close()\n",
    "    print(\"Data inserted successfully\")\n",
    "\n"
   ]
  }
 ],
 "metadata": {
  "kernelspec": {
   "display_name": "Python 3",
   "language": "python",
   "name": "python3"
  },
  "language_info": {
   "codemirror_mode": {
    "name": "ipython",
    "version": 3
   },
   "file_extension": ".py",
   "mimetype": "text/x-python",
   "name": "python",
   "nbconvert_exporter": "python",
   "pygments_lexer": "ipython3",
   "version": "3.13.1"
  }
 },
 "nbformat": 4,
 "nbformat_minor": 2
}
